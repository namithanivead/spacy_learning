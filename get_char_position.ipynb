{
 "cells": [
  {
   "cell_type": "code",
   "execution_count": 4,
   "metadata": {},
   "outputs": [
    {
     "name": "stdout",
     "output_type": "stream",
     "text": [
      "yamas 16 21\n",
      "graph 22 27\n",
      "alert 32 37\n"
     ]
    }
   ],
   "source": [
    "import spacy\n",
    "import re\n",
    "nlp=spacy.load('en_core_web_sm')\n",
    "doc=nlp('Please ping the yamas graph for alert')\n",
    "listOfStrings = [\"yamas\", \"graph\", \"alert\"]\n",
    "for s in listOfStrings:\n",
    "    res = re.search(s,doc.text)\n",
    "    if res:\n",
    "        print(s , res.start(), res.end())"
   ]
  },
  {
   "cell_type": "code",
   "execution_count": null,
   "metadata": {},
   "outputs": [],
   "source": [
    "import spacy\n",
    "import re\n",
    "nlp=spacy.load('en_core_web_sm')\n",
    "doc=nlp('Get all the incident that impacted Mail between yesterday and today')\n"
   ]
  }
 ],
 "metadata": {
  "kernelspec": {
   "display_name": "Python 3",
   "language": "python",
   "name": "python3"
  },
  "language_info": {
   "codemirror_mode": {
    "name": "ipython",
    "version": 3
   },
   "file_extension": ".py",
   "mimetype": "text/x-python",
   "name": "python",
   "nbconvert_exporter": "python",
   "pygments_lexer": "ipython3",
   "version": "3.8.2"
  }
 },
 "nbformat": 4,
 "nbformat_minor": 4
}
