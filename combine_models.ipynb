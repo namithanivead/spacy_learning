{
 "cells": [
  {
   "cell_type": "code",
   "execution_count": 20,
   "metadata": {},
   "outputs": [
    {
     "name": "stdout",
     "output_type": "stream",
     "text": [
      "[('Servicenow', 'TIME'), ('incident', 'SERVICENOW'), ('Mail', 'PROPERTY')]\n"
     ]
    }
   ],
   "source": [
    "import spacy\n",
    "from spacy.pipeline import EntityRecognizer\n",
    "text = \"Is there a Servicenow incident for Mail\"\n",
    "#text = \"I am travelling to London\"\n",
    "nlp_en = spacy.load('en') \n",
    "nlp_ner = spacy.load(\"/Users/namithav/demo_chatbot/ner/\")\n",
    "assert nlp_en.vocab != nlp_ner.vocab\n",
    "assert nlp_en.vocab.vectors.to_bytes() == nlp_ner.vocab.vectors.to_bytes()\n",
    "doc1 = nlp_en(text)\n",
    "#print([(ent.text, ent.label_) for ent in doc1.ents])\n",
    "doc2 = nlp_ner(text)\n",
    "#print([(ent.text, ent.label_) for ent in doc2.ents])\n",
    "ner_new = EntityRecognizer(nlp_en.vocab)\n",
    "ner_new.from_bytes(nlp_ner.get_pipe(\"ner\").to_bytes(exclude=[\"vocab\"]))\n",
    "nlp_en.add_pipe(ner_new, name=\"ner_new\")\n",
    "assert nlp_en.vocab == ner_new.vocab\n",
    "doc3 = nlp_en(text)\n",
    "print([(ent.text, ent.label_) for ent in doc3.ents])"
   ]
  },
  {
   "cell_type": "code",
   "execution_count": null,
   "metadata": {},
   "outputs": [],
   "source": []
  },
  {
   "cell_type": "code",
   "execution_count": null,
   "metadata": {},
   "outputs": [],
   "source": []
  },
  {
   "cell_type": "code",
   "execution_count": null,
   "metadata": {},
   "outputs": [],
   "source": []
  }
 ],
 "metadata": {
  "kernelspec": {
   "display_name": "Python 3",
   "language": "python",
   "name": "python3"
  },
  "language_info": {
   "codemirror_mode": {
    "name": "ipython",
    "version": 3
   },
   "file_extension": ".py",
   "mimetype": "text/x-python",
   "name": "python",
   "nbconvert_exporter": "python",
   "pygments_lexer": "ipython3",
   "version": "3.8.2"
  }
 },
 "nbformat": 4,
 "nbformat_minor": 4
}
