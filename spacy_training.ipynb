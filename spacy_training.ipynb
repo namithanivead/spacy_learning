{
 "cells": [
  {
   "cell_type": "code",
   "execution_count": 1,
   "metadata": {},
   "outputs": [
    {
     "data": {
      "text/plain": [
       "'2.3.5'"
      ]
     },
     "execution_count": 1,
     "metadata": {},
     "output_type": "execute_result"
    }
   ],
   "source": [
    "import spacy\n",
    "spacy.__version__"
   ]
  },
  {
   "cell_type": "code",
   "execution_count": 19,
   "metadata": {},
   "outputs": [
    {
     "name": "stdout",
     "output_type": "stream",
     "text": [
      "Is AUX\n",
      "there PRON\n",
      "any DET\n",
      "incident NOUN\n",
      "in ADP\n",
      "Servicenow PROPN\n",
      "for ADP\n",
      "Mail PROPN\n",
      "in ADP\n",
      "less ADJ\n",
      "than SCONJ\n",
      "24 NUM\n",
      "hours NOUN\n"
     ]
    }
   ],
   "source": [
    "nlp = spacy.load('en')\n",
    "doc = nlp(u'Is there any incident in Servicenow for Mail in less than 24 hours')\n",
    "for token in doc:\n",
    "    print(token.text, token.pos_)"
   ]
  },
  {
   "cell_type": "code",
   "execution_count": 6,
   "metadata": {},
   "outputs": [
    {
     "name": "stdout",
     "output_type": "stream",
     "text": [
      "Is be VBZ ROOT True\n",
      "there there EX expl True\n",
      "any any DT det True\n",
      "incident incident NN attr False\n",
      "in in IN prep True\n",
      "Servicenow Servicenow NNP pobj False\n",
      "for for IN prep True\n",
      "Mail Mail NNP pobj False\n"
     ]
    }
   ],
   "source": [
    "for token in doc:\n",
    "    print(token.text,token.lemma_,token.tag_,token.dep_,token.is_stop)"
   ]
  },
  {
   "cell_type": "code",
   "execution_count": 20,
   "metadata": {},
   "outputs": [
    {
     "name": "stdout",
     "output_type": "stream",
     "text": [
      "less than 24 hours TIME\n"
     ]
    }
   ],
   "source": [
    "\n",
    "nlp = spacy.load('en')\n",
    "doc = nlp(u'Is there any  Servicenow Incident for Yahoo Mail in less than 24 hours')\n",
    "#doc = nlp(u'Google has its headquartes in Mountain View, California')\n",
    "for ent in doc.ents:\n",
    "    print(ent.text, ent.label_)"
   ]
  },
  {
   "cell_type": "code",
   "execution_count": 21,
   "metadata": {},
   "outputs": [
    {
     "data": {
      "text/plain": [
       "['tagger', 'parser', 'ner']"
      ]
     },
     "execution_count": 21,
     "metadata": {},
     "output_type": "execute_result"
    }
   ],
   "source": [
    "import spacy\n",
    "nlp=spacy.load('en_core_web_sm')\n",
    "nlp.pipe_names"
   ]
  },
  {
   "cell_type": "code",
   "execution_count": 30,
   "metadata": {},
   "outputs": [
    {
     "ename": "AttributeError",
     "evalue": "'spacy.tokens.token.Token' object has no attribute 'start_char'",
     "output_type": "error",
     "traceback": [
      "\u001b[0;31m---------------------------------------------------------------------------\u001b[0m",
      "\u001b[0;31mAttributeError\u001b[0m                            Traceback (most recent call last)",
      "\u001b[0;32m<ipython-input-30-c70497d6db2e>\u001b[0m in \u001b[0;36m<module>\u001b[0;34m\u001b[0m\n\u001b[1;32m      8\u001b[0m \u001b[0mdoc1\u001b[0m \u001b[0;34m=\u001b[0m \u001b[0mnlp1\u001b[0m\u001b[0;34m(\u001b[0m\u001b[0;34m\"Who is Kofi Annan\"\u001b[0m\u001b[0;34m)\u001b[0m\u001b[0;34m\u001b[0m\u001b[0;34m\u001b[0m\u001b[0m\n\u001b[1;32m      9\u001b[0m \u001b[0;32mfor\u001b[0m \u001b[0ment\u001b[0m \u001b[0;32min\u001b[0m \u001b[0mdoc1\u001b[0m\u001b[0;34m:\u001b[0m\u001b[0;34m\u001b[0m\u001b[0;34m\u001b[0m\u001b[0m\n\u001b[0;32m---> 10\u001b[0;31m     \u001b[0mprint\u001b[0m\u001b[0;34m(\u001b[0m\u001b[0ment\u001b[0m\u001b[0;34m.\u001b[0m\u001b[0mtext\u001b[0m\u001b[0;34m,\u001b[0m \u001b[0ment\u001b[0m\u001b[0;34m.\u001b[0m\u001b[0mstart_char\u001b[0m\u001b[0;34m,\u001b[0m \u001b[0ment\u001b[0m\u001b[0;34m.\u001b[0m\u001b[0mend_char\u001b[0m\u001b[0;34m)\u001b[0m\u001b[0;34m\u001b[0m\u001b[0;34m\u001b[0m\u001b[0m\n\u001b[0m",
      "\u001b[0;31mAttributeError\u001b[0m: 'spacy.tokens.token.Token' object has no attribute 'start_char'"
     ]
    }
   ],
   "source": [
    "from __future__ import unicode_literals, print_function\n",
    "import plac\n",
    "import random\n",
    "from pathlib import Path\n",
    "import spacy\n",
    "from tqdm import tqdm\n",
    "nlp1 = spacy.load('en_core_web_sm')\n",
    "doc1 = nlp1(\"Who is Kofi Annan\")\n",
    "for ent in doc1:\n",
    "    print(ent.text, ent.start_char, ent.end_char)"
   ]
  },
  {
   "cell_type": "code",
   "execution_count": 32,
   "metadata": {},
   "outputs": [
    {
     "name": "stderr",
     "output_type": "stream",
     "text": [
      "100%|██████████| 6/6 [00:00<00:00, 57.67it/s]"
     ]
    },
    {
     "name": "stdout",
     "output_type": "stream",
     "text": [
      "Created blank 'en' model\n"
     ]
    },
    {
     "name": "stderr",
     "output_type": "stream",
     "text": [
      "100%|██████████| 6/6 [00:00<00:00, 57.23it/s]\n",
      "100%|██████████| 6/6 [00:00<00:00, 72.16it/s]\n",
      "100%|██████████| 6/6 [00:00<00:00, 70.13it/s]\n",
      "  0%|          | 0/6 [00:00<?, ?it/s]"
     ]
    },
    {
     "name": "stdout",
     "output_type": "stream",
     "text": [
      "{'ner': 47.036539770662785}\n",
      "{'ner': 39.70727699622512}\n",
      "{'ner': 27.788724665530026}\n"
     ]
    },
    {
     "name": "stderr",
     "output_type": "stream",
     "text": [
      "100%|██████████| 6/6 [00:00<00:00, 65.63it/s]\n",
      "100%|██████████| 6/6 [00:00<00:00, 63.04it/s]\n",
      "100%|██████████| 6/6 [00:00<00:00, 64.96it/s]\n",
      "  0%|          | 0/6 [00:00<?, ?it/s]"
     ]
    },
    {
     "name": "stdout",
     "output_type": "stream",
     "text": [
      "{'ner': 24.3975250297226}\n",
      "{'ner': 22.78789823432453}\n",
      "{'ner': 21.802991427952634}\n"
     ]
    },
    {
     "name": "stderr",
     "output_type": "stream",
     "text": [
      "100%|██████████| 6/6 [00:00<00:00, 57.37it/s]\n",
      "100%|██████████| 6/6 [00:00<00:00, 60.85it/s]\n",
      "100%|██████████| 6/6 [00:00<00:00, 66.10it/s]\n",
      "  0%|          | 0/6 [00:00<?, ?it/s]"
     ]
    },
    {
     "name": "stdout",
     "output_type": "stream",
     "text": [
      "{'ner': 20.91688211303699}\n",
      "{'ner': 20.133861338668794}\n",
      "{'ner': 20.837694851341098}\n"
     ]
    },
    {
     "name": "stderr",
     "output_type": "stream",
     "text": [
      "100%|██████████| 6/6 [00:00<00:00, 64.51it/s]\n",
      "100%|██████████| 6/6 [00:00<00:00, 64.45it/s]\n",
      "100%|██████████| 6/6 [00:00<00:00, 67.07it/s]\n",
      "  0%|          | 0/6 [00:00<?, ?it/s]"
     ]
    },
    {
     "name": "stdout",
     "output_type": "stream",
     "text": [
      "{'ner': 15.761796113394666}\n",
      "{'ner': 16.781667247677433}\n",
      "{'ner': 12.9970806639908}\n"
     ]
    },
    {
     "name": "stderr",
     "output_type": "stream",
     "text": [
      "100%|██████████| 6/6 [00:00<00:00, 70.63it/s]\n",
      "100%|██████████| 6/6 [00:00<00:00, 67.47it/s]\n",
      "100%|██████████| 6/6 [00:00<00:00, 68.74it/s]\n",
      "  0%|          | 0/6 [00:00<?, ?it/s]"
     ]
    },
    {
     "name": "stdout",
     "output_type": "stream",
     "text": [
      "{'ner': 14.05964883712295}\n",
      "{'ner': 9.648004267947499}\n",
      "{'ner': 5.377034235420979}\n"
     ]
    },
    {
     "name": "stderr",
     "output_type": "stream",
     "text": [
      "100%|██████████| 6/6 [00:00<00:00, 68.21it/s]\n",
      "100%|██████████| 6/6 [00:00<00:00, 62.18it/s]\n",
      "  0%|          | 0/6 [00:00<?, ?it/s]"
     ]
    },
    {
     "name": "stdout",
     "output_type": "stream",
     "text": [
      "{'ner': 5.273573343132632}\n",
      "{'ner': 4.444777833389167}\n"
     ]
    },
    {
     "name": "stderr",
     "output_type": "stream",
     "text": [
      "100%|██████████| 6/6 [00:00<00:00, 58.09it/s]\n",
      "100%|██████████| 6/6 [00:00<00:00, 61.58it/s]\n",
      "100%|██████████| 6/6 [00:00<00:00, 62.22it/s]\n",
      "  0%|          | 0/6 [00:00<?, ?it/s]"
     ]
    },
    {
     "name": "stdout",
     "output_type": "stream",
     "text": [
      "{'ner': 4.053820097505128}\n",
      "{'ner': 5.3295134704164315}\n",
      "{'ner': 0.3167478574814235}\n"
     ]
    },
    {
     "name": "stderr",
     "output_type": "stream",
     "text": [
      "100%|██████████| 6/6 [00:00<00:00, 68.02it/s]\n",
      "100%|██████████| 6/6 [00:00<00:00, 65.36it/s]\n",
      "100%|██████████| 6/6 [00:00<00:00, 64.95it/s]\n",
      "  0%|          | 0/6 [00:00<?, ?it/s]"
     ]
    },
    {
     "name": "stdout",
     "output_type": "stream",
     "text": [
      "{'ner': 1.6386977367259798}\n",
      "{'ner': 0.14095459664639343}\n",
      "{'ner': 0.14193190990314833}\n"
     ]
    },
    {
     "name": "stderr",
     "output_type": "stream",
     "text": [
      "100%|██████████| 6/6 [00:00<00:00, 72.17it/s]\n",
      "100%|██████████| 6/6 [00:00<00:00, 68.64it/s]\n",
      "100%|██████████| 6/6 [00:00<00:00, 70.29it/s]\n",
      "  0%|          | 0/6 [00:00<?, ?it/s]"
     ]
    },
    {
     "name": "stdout",
     "output_type": "stream",
     "text": [
      "{'ner': 0.06634883791853304}\n",
      "{'ner': 0.07604923467710159}\n",
      "{'ner': 0.04065711463378769}\n"
     ]
    },
    {
     "name": "stderr",
     "output_type": "stream",
     "text": [
      "100%|██████████| 6/6 [00:00<00:00, 70.97it/s]\n",
      "100%|██████████| 6/6 [00:00<00:00, 68.75it/s]\n",
      "100%|██████████| 6/6 [00:00<00:00, 68.11it/s]\n",
      "  0%|          | 0/6 [00:00<?, ?it/s]"
     ]
    },
    {
     "name": "stdout",
     "output_type": "stream",
     "text": [
      "{'ner': 0.004857012417519797}\n",
      "{'ner': 0.8582591949387213}\n",
      "{'ner': 0.02036539593249189}\n"
     ]
    },
    {
     "name": "stderr",
     "output_type": "stream",
     "text": [
      "100%|██████████| 6/6 [00:00<00:00, 71.18it/s]\n",
      "100%|██████████| 6/6 [00:00<00:00, 67.98it/s]\n",
      "100%|██████████| 6/6 [00:00<00:00, 71.68it/s]\n",
      "  0%|          | 0/6 [00:00<?, ?it/s]"
     ]
    },
    {
     "name": "stdout",
     "output_type": "stream",
     "text": [
      "{'ner': 0.11058634692083312}\n",
      "{'ner': 0.10834766463443704}\n",
      "{'ner': 0.2747139833448745}\n"
     ]
    },
    {
     "name": "stderr",
     "output_type": "stream",
     "text": [
      "100%|██████████| 6/6 [00:00<00:00, 64.94it/s]\n",
      "100%|██████████| 6/6 [00:00<00:00, 66.98it/s]\n",
      "100%|██████████| 6/6 [00:00<00:00, 67.60it/s]\n",
      "  0%|          | 0/6 [00:00<?, ?it/s]"
     ]
    },
    {
     "name": "stdout",
     "output_type": "stream",
     "text": [
      "{'ner': 2.7017824059907886e-06}\n",
      "{'ner': 0.019311295973961584}\n",
      "{'ner': 0.0018743635695222154}\n"
     ]
    },
    {
     "name": "stderr",
     "output_type": "stream",
     "text": [
      "100%|██████████| 6/6 [00:00<00:00, 69.87it/s]\n",
      "100%|██████████| 6/6 [00:00<00:00, 67.52it/s]\n",
      "100%|██████████| 6/6 [00:00<00:00, 66.80it/s]\n",
      "  0%|          | 0/6 [00:00<?, ?it/s]"
     ]
    },
    {
     "name": "stdout",
     "output_type": "stream",
     "text": [
      "{'ner': 0.2878283966617322}\n",
      "{'ner': 7.731799828105928e-05}\n",
      "{'ner': 0.012501167194621769}\n"
     ]
    },
    {
     "name": "stderr",
     "output_type": "stream",
     "text": [
      "100%|██████████| 6/6 [00:00<00:00, 69.05it/s]\n",
      "100%|██████████| 6/6 [00:00<00:00, 75.99it/s]\n",
      "100%|██████████| 6/6 [00:00<00:00, 74.23it/s]\n",
      "  0%|          | 0/6 [00:00<?, ?it/s]"
     ]
    },
    {
     "name": "stdout",
     "output_type": "stream",
     "text": [
      "{'ner': 0.0037171691496557433}\n",
      "{'ner': 0.0009588863811496131}\n",
      "{'ner': 3.10870739542015e-05}\n"
     ]
    },
    {
     "name": "stderr",
     "output_type": "stream",
     "text": [
      "100%|██████████| 6/6 [00:00<00:00, 74.94it/s]\n",
      "100%|██████████| 6/6 [00:00<00:00, 75.14it/s]\n",
      "100%|██████████| 6/6 [00:00<00:00, 76.77it/s]\n",
      "  0%|          | 0/6 [00:00<?, ?it/s]"
     ]
    },
    {
     "name": "stdout",
     "output_type": "stream",
     "text": [
      "{'ner': 0.0007483101386549308}\n",
      "{'ner': 0.00015631283873813483}\n",
      "{'ner': 8.91709003646519e-05}\n"
     ]
    },
    {
     "name": "stderr",
     "output_type": "stream",
     "text": [
      "100%|██████████| 6/6 [00:00<00:00, 73.88it/s]\n",
      "100%|██████████| 6/6 [00:00<00:00, 73.90it/s]\n",
      "100%|██████████| 6/6 [00:00<00:00, 76.46it/s]\n",
      "  0%|          | 0/6 [00:00<?, ?it/s]"
     ]
    },
    {
     "name": "stdout",
     "output_type": "stream",
     "text": [
      "{'ner': 0.02932999973417423}\n",
      "{'ner': 0.0034071680584856073}\n",
      "{'ner': 4.6384919737559867e-07}\n"
     ]
    },
    {
     "name": "stderr",
     "output_type": "stream",
     "text": [
      "100%|██████████| 6/6 [00:00<00:00, 75.41it/s]\n",
      "100%|██████████| 6/6 [00:00<00:00, 74.84it/s]\n",
      "100%|██████████| 6/6 [00:00<00:00, 75.51it/s]\n",
      "  0%|          | 0/6 [00:00<?, ?it/s]"
     ]
    },
    {
     "name": "stdout",
     "output_type": "stream",
     "text": [
      "{'ner': 1.1240118873477953e-06}\n",
      "{'ner': 0.015421496660607987}\n",
      "{'ner': 1.7726151125969032}\n"
     ]
    },
    {
     "name": "stderr",
     "output_type": "stream",
     "text": [
      "100%|██████████| 6/6 [00:00<00:00, 74.80it/s]\n",
      "100%|██████████| 6/6 [00:00<00:00, 75.72it/s]\n",
      "100%|██████████| 6/6 [00:00<00:00, 74.32it/s]\n",
      "  0%|          | 0/6 [00:00<?, ?it/s]"
     ]
    },
    {
     "name": "stdout",
     "output_type": "stream",
     "text": [
      "{'ner': 0.5342776108074978}\n",
      "{'ner': 0.0017719769285524888}\n",
      "{'ner': 8.95869890118962e-06}\n"
     ]
    },
    {
     "name": "stderr",
     "output_type": "stream",
     "text": [
      "100%|██████████| 6/6 [00:00<00:00, 75.05it/s]\n",
      "100%|██████████| 6/6 [00:00<00:00, 76.89it/s]\n",
      "100%|██████████| 6/6 [00:00<00:00, 76.27it/s]\n",
      "  0%|          | 0/6 [00:00<?, ?it/s]"
     ]
    },
    {
     "name": "stdout",
     "output_type": "stream",
     "text": [
      "{'ner': 0.1348743172373143}\n",
      "{'ner': 1.4100160185151535e-06}\n",
      "{'ner': 0.015969011133557785}\n"
     ]
    },
    {
     "name": "stderr",
     "output_type": "stream",
     "text": [
      "100%|██████████| 6/6 [00:00<00:00, 73.72it/s]\n",
      "100%|██████████| 6/6 [00:00<00:00, 76.63it/s]\n",
      "100%|██████████| 6/6 [00:00<00:00, 72.50it/s]\n",
      "  0%|          | 0/6 [00:00<?, ?it/s]"
     ]
    },
    {
     "name": "stdout",
     "output_type": "stream",
     "text": [
      "{'ner': 5.428237389431314e-08}\n",
      "{'ner': 4.968787917961224e-10}\n",
      "{'ner': 4.6835386270274085e-07}\n"
     ]
    },
    {
     "name": "stderr",
     "output_type": "stream",
     "text": [
      "100%|██████████| 6/6 [00:00<00:00, 74.35it/s]\n",
      "100%|██████████| 6/6 [00:00<00:00, 74.44it/s]\n",
      "100%|██████████| 6/6 [00:00<00:00, 74.76it/s]\n",
      "  0%|          | 0/6 [00:00<?, ?it/s]"
     ]
    },
    {
     "name": "stdout",
     "output_type": "stream",
     "text": [
      "{'ner': 0.0017915429921335113}\n",
      "{'ner': 1.5679644660729308e-07}\n",
      "{'ner': 4.1693330910632136e-05}\n"
     ]
    },
    {
     "name": "stderr",
     "output_type": "stream",
     "text": [
      "100%|██████████| 6/6 [00:00<00:00, 80.84it/s]\n",
      "100%|██████████| 6/6 [00:00<00:00, 72.20it/s]\n",
      "100%|██████████| 6/6 [00:00<00:00, 77.07it/s]\n",
      "  0%|          | 0/6 [00:00<?, ?it/s]"
     ]
    },
    {
     "name": "stdout",
     "output_type": "stream",
     "text": [
      "{'ner': 0.0007560758790246872}\n",
      "{'ner': 1.6411890230285487e-05}\n",
      "{'ner': 3.7323714858437365e-08}\n"
     ]
    },
    {
     "name": "stderr",
     "output_type": "stream",
     "text": [
      "100%|██████████| 6/6 [00:00<00:00, 66.90it/s]\n",
      "100%|██████████| 6/6 [00:00<00:00, 74.40it/s]\n",
      "100%|██████████| 6/6 [00:00<00:00, 67.80it/s]\n",
      "  0%|          | 0/6 [00:00<?, ?it/s]"
     ]
    },
    {
     "name": "stdout",
     "output_type": "stream",
     "text": [
      "{'ner': 6.825657408809176e-08}\n",
      "{'ner': 1.607909866289506e-06}\n",
      "{'ner': 0.00012529529598454743}\n"
     ]
    },
    {
     "name": "stderr",
     "output_type": "stream",
     "text": [
      "100%|██████████| 6/6 [00:00<00:00, 74.42it/s]\n",
      "100%|██████████| 6/6 [00:00<00:00, 82.04it/s]\n",
      "100%|██████████| 6/6 [00:00<00:00, 83.30it/s]\n",
      "  0%|          | 0/6 [00:00<?, ?it/s]"
     ]
    },
    {
     "name": "stdout",
     "output_type": "stream",
     "text": [
      "{'ner': 0.0017975917474446265}\n",
      "{'ner': 4.6657144433821626e-07}\n",
      "{'ner': 0.0037878962201406668}\n"
     ]
    },
    {
     "name": "stderr",
     "output_type": "stream",
     "text": [
      "100%|██████████| 6/6 [00:00<00:00, 82.14it/s]\n",
      "100%|██████████| 6/6 [00:00<00:00, 65.25it/s]\n",
      "100%|██████████| 6/6 [00:00<00:00, 73.23it/s]\n",
      "  0%|          | 0/6 [00:00<?, ?it/s]"
     ]
    },
    {
     "name": "stdout",
     "output_type": "stream",
     "text": [
      "{'ner': 6.609591290376434e-06}\n",
      "{'ner': 0.0004700769021884057}\n",
      "{'ner': 6.038063873228366e-06}\n"
     ]
    },
    {
     "name": "stderr",
     "output_type": "stream",
     "text": [
      "100%|██████████| 6/6 [00:00<00:00, 72.71it/s]\n",
      "100%|██████████| 6/6 [00:00<00:00, 73.34it/s]\n",
      "100%|██████████| 6/6 [00:00<00:00, 73.90it/s]\n",
      "  0%|          | 0/6 [00:00<?, ?it/s]"
     ]
    },
    {
     "name": "stdout",
     "output_type": "stream",
     "text": [
      "{'ner': 9.72545655900291e-08}\n",
      "{'ner': 4.645862032257867e-06}\n",
      "{'ner': 6.401149984430896e-05}\n"
     ]
    },
    {
     "name": "stderr",
     "output_type": "stream",
     "text": [
      "100%|██████████| 6/6 [00:00<00:00, 73.11it/s]\n",
      "100%|██████████| 6/6 [00:00<00:00, 73.82it/s]\n",
      "100%|██████████| 6/6 [00:00<00:00, 72.03it/s]\n",
      "  0%|          | 0/6 [00:00<?, ?it/s]"
     ]
    },
    {
     "name": "stdout",
     "output_type": "stream",
     "text": [
      "{'ner': 4.525364567884404e-08}\n",
      "{'ner': 1.948016397708133e-09}\n",
      "{'ner': 0.002079002005034765}\n"
     ]
    },
    {
     "name": "stderr",
     "output_type": "stream",
     "text": [
      "100%|██████████| 6/6 [00:00<00:00, 72.10it/s]\n",
      "100%|██████████| 6/6 [00:00<00:00, 71.65it/s]\n",
      "100%|██████████| 6/6 [00:00<00:00, 79.26it/s]\n",
      "  0%|          | 0/6 [00:00<?, ?it/s]"
     ]
    },
    {
     "name": "stdout",
     "output_type": "stream",
     "text": [
      "{'ner': 0.04865500332676985}\n",
      "{'ner': 0.06067855409973925}\n",
      "{'ner': 1.1569427194074272e-10}\n"
     ]
    },
    {
     "name": "stderr",
     "output_type": "stream",
     "text": [
      "100%|██████████| 6/6 [00:00<00:00, 73.16it/s]\n",
      "100%|██████████| 6/6 [00:00<00:00, 71.60it/s]\n",
      "100%|██████████| 6/6 [00:00<00:00, 69.72it/s]\n",
      "  0%|          | 0/6 [00:00<?, ?it/s]"
     ]
    },
    {
     "name": "stdout",
     "output_type": "stream",
     "text": [
      "{'ner': 6.023709434640739e-09}\n",
      "{'ner': 3.818179402519938e-09}\n",
      "{'ner': 4.028319683370999e-07}\n"
     ]
    },
    {
     "name": "stderr",
     "output_type": "stream",
     "text": [
      "100%|██████████| 6/6 [00:00<00:00, 68.92it/s]\n",
      "100%|██████████| 6/6 [00:00<00:00, 59.94it/s]\n",
      "100%|██████████| 6/6 [00:00<00:00, 63.36it/s]\n",
      "  0%|          | 0/6 [00:00<?, ?it/s]"
     ]
    },
    {
     "name": "stdout",
     "output_type": "stream",
     "text": [
      "{'ner': 0.0025673434560569653}\n",
      "{'ner': 0.00012649020998397326}\n",
      "{'ner': 1.2734117460413107e-05}\n"
     ]
    },
    {
     "name": "stderr",
     "output_type": "stream",
     "text": [
      "100%|██████████| 6/6 [00:00<00:00, 68.59it/s]\n",
      "100%|██████████| 6/6 [00:00<00:00, 66.70it/s]\n",
      "100%|██████████| 6/6 [00:00<00:00, 61.18it/s]\n",
      "  0%|          | 0/6 [00:00<?, ?it/s]"
     ]
    },
    {
     "name": "stdout",
     "output_type": "stream",
     "text": [
      "{'ner': 1.640852837564211e-08}\n",
      "{'ner': 7.149201579824668e-07}\n",
      "{'ner': 4.192991554775453e-10}\n"
     ]
    },
    {
     "name": "stderr",
     "output_type": "stream",
     "text": [
      "100%|██████████| 6/6 [00:00<00:00, 63.12it/s]\n",
      "100%|██████████| 6/6 [00:00<00:00, 60.07it/s]\n",
      "100%|██████████| 6/6 [00:00<00:00, 64.58it/s]\n",
      "  0%|          | 0/6 [00:00<?, ?it/s]"
     ]
    },
    {
     "name": "stdout",
     "output_type": "stream",
     "text": [
      "{'ner': 2.2468927674874514e-08}\n",
      "{'ner': 1.9108942395750272e-07}\n",
      "{'ner': 2.7525168179689294e-09}\n"
     ]
    },
    {
     "name": "stderr",
     "output_type": "stream",
     "text": [
      "100%|██████████| 6/6 [00:00<00:00, 57.39it/s]\n",
      "100%|██████████| 6/6 [00:00<00:00, 55.91it/s]\n",
      "  0%|          | 0/6 [00:00<?, ?it/s]"
     ]
    },
    {
     "name": "stdout",
     "output_type": "stream",
     "text": [
      "{'ner': 1.1101026961269046e-08}\n",
      "{'ner': 3.983022453527501e-07}\n"
     ]
    },
    {
     "name": "stderr",
     "output_type": "stream",
     "text": [
      "100%|██████████| 6/6 [00:00<00:00, 57.25it/s]\n",
      "100%|██████████| 6/6 [00:00<00:00, 56.54it/s]\n",
      "  0%|          | 0/6 [00:00<?, ?it/s]"
     ]
    },
    {
     "name": "stdout",
     "output_type": "stream",
     "text": [
      "{'ner': 0.00020527809389790178}\n",
      "{'ner': 1.7653181543387866e-08}\n"
     ]
    },
    {
     "name": "stderr",
     "output_type": "stream",
     "text": [
      "100%|██████████| 6/6 [00:00<00:00, 55.26it/s]"
     ]
    },
    {
     "name": "stdout",
     "output_type": "stream",
     "text": [
      "{'ner': 8.070780832090806e-07}\n",
      "Entities [('Servicenow', 'TIME'), ('incident', 'SERVICENOW'), ('Mail', 'PROPERTY')]\n",
      "Entities [('incidents', 'SERVICENOW'), ('Servicenow', 'SERVICENOW'), ('Mail', 'PROPERTY')]\n",
      "Entities [('ongoing', 'TIME'), ('incident', 'SERVICENOW'), ('Mail', 'PROPERTY')]\n",
      "Entities [('incidents', 'SERVICENOW'), ('Mail', 'PROPERTY')]\n",
      "Entities [('ongoing', 'TIME'), ('outage', 'SERVICENOW'), ('Mail', 'PROPERTY')]\n",
      "Entities [('incident', 'SERVICENOW'), ('Mail', 'PROPERTY')]\n"
     ]
    },
    {
     "name": "stderr",
     "output_type": "stream",
     "text": [
      "\n"
     ]
    }
   ],
   "source": [
    "from __future__ import unicode_literals, print_function\n",
    "import plac\n",
    "import random\n",
    "from pathlib import Path\n",
    "import spacy\n",
    "from tqdm import tqdm\n",
    "\n",
    "# training data\n",
    "TRAIN_DATA = [\n",
    "              (\"Is there a Servicenow incident for Mail\", {\"entities\": [(11, 22, \"SERVICENOW\"), (22,30, \"SERVICENOW\"),(35,39, \"PROPERTY\")]}),\n",
    "              (\"Get all the incident that impacted Mail between yesterday and today\", {\"entities\": [(12,20, \"SERVICENOW\"),(35,39, \"PROPERTY\")]}),\n",
    "              (\"Is there any ongoing incident for Mail\", {\"entities\": [(13, 20, \"TIME\"),(21,29, \"SERVICENOW\"),(34,38, \"PROPERTY\")]}),\n",
    "              (\"Is there any ongoing outage that is impacting Mail\", {\"entities\":[(13,20,\"TIME\"),(21,27,\"SERVICENOW\"),(46,50,\"PROPERTY\")]}),\n",
    "              (\"List all incidents that impacted Mail in last 48 hours\", {\"entities\":[(9, 18, \"SERVICENOW\"),(33,37,\"PROPERTY\")]}),\n",
    "            (\"List all Open incidents in Servicenow that is impacting Mail\", {\"entities\":[(14,23,\"SERVICENOW\"),(27,37,\"SERVICENOW\"),(56,60,\"PROPERTY\")]})\n",
    "    ]\n",
    "\n",
    "\n",
    "model = None\n",
    "output_dir=Path(\"/Users/namithav/demo_chatbot/ner\")\n",
    "n_iter=100\n",
    "\n",
    "#load the model\n",
    "\n",
    "if model is not None:\n",
    "    nlp = spacy.load(model)\n",
    "    print(\"Loaded model '%s'\" % model)\n",
    "else:\n",
    "    nlp = spacy.blank('en')\n",
    "    print(\"Created blank 'en' model\")\n",
    "\n",
    "#set up the pipeline\n",
    "\n",
    "if 'ner' not in nlp.pipe_names:\n",
    "    ner = nlp.create_pipe('ner')\n",
    "    nlp.add_pipe(ner, last=True)\n",
    "else:\n",
    "    ner = nlp.get_pipe('ner')\n",
    "\n",
    "for _, annotations in TRAIN_DATA:\n",
    "    for ent in annotations.get('entities'):\n",
    "        ner.add_label(ent[2])\n",
    "\n",
    "other_pipes = [pipe for pipe in nlp.pipe_names if pipe != 'ner']\n",
    "with nlp.disable_pipes(*other_pipes):  # only train NER\n",
    "    optimizer = nlp.begin_training()\n",
    "    for itn in range(n_iter):\n",
    "        random.shuffle(TRAIN_DATA)\n",
    "        losses = {}\n",
    "        for text, annotations in tqdm(TRAIN_DATA):\n",
    "            nlp.update(\n",
    "                [text],\n",
    "                [annotations],\n",
    "                drop=0.5,\n",
    "                sgd=optimizer,\n",
    "                losses=losses)\n",
    "        print(losses)\n",
    "for text, _ in TRAIN_DATA:\n",
    "    doc = nlp(text)\n",
    "    print('Entities', [(ent.text, ent.label_) for ent in doc.ents])"
   ]
  },
  {
   "cell_type": "code",
   "execution_count": 33,
   "metadata": {},
   "outputs": [
    {
     "name": "stdout",
     "output_type": "stream",
     "text": [
      "Is there a Servicenow incident for Mail\n",
      "Entities [('Servicenow', 'TIME'), ('incident', 'SERVICENOW'), ('Mail', 'PROPERTY')]\n",
      "List all Open incidents in Servicenow that is impacting Mail\n",
      "Entities [('incidents', 'SERVICENOW'), ('Servicenow', 'SERVICENOW'), ('Mail', 'PROPERTY')]\n",
      "Is there any ongoing incident for Mail\n",
      "Entities [('ongoing', 'TIME'), ('incident', 'SERVICENOW'), ('Mail', 'PROPERTY')]\n",
      "List all incidents that impacted Mail in last 48 hours\n",
      "Entities [('incidents', 'SERVICENOW'), ('Mail', 'PROPERTY')]\n",
      "Is there any ongoing outage that is impacting Mail\n",
      "Entities [('ongoing', 'TIME'), ('outage', 'SERVICENOW'), ('Mail', 'PROPERTY')]\n",
      "Get all the incident that impacted Mail between yesterday and today\n",
      "Entities [('incident', 'SERVICENOW'), ('Mail', 'PROPERTY')]\n"
     ]
    }
   ],
   "source": [
    "for text, _ in TRAIN_DATA:\n",
    "    doc = nlp(text)\n",
    "    print(text)\n",
    "    print('Entities', [(ent.text, ent.label_) for ent in doc.ents])"
   ]
  },
  {
   "cell_type": "code",
   "execution_count": 13,
   "metadata": {},
   "outputs": [
    {
     "name": "stdout",
     "output_type": "stream",
     "text": [
      "less than 24 hours TIME\n"
     ]
    }
   ],
   "source": [
    "import spacy\n",
    "nlp = spacy.load('en')\n",
    "#doc = nlp(u'List out the incidents for Mail between yesterday and today')\n",
    "#doc = nlp(u'List the incidents for Mail on 24th December')\n",
    "doc = nlp(u'List incidents in less than 24 hours')\n",
    "for token in doc.ents:\n",
    "    print(token.text, token.label_)"
   ]
  },
  {
   "cell_type": "code",
   "execution_count": 23,
   "metadata": {},
   "outputs": [
    {
     "name": "stdout",
     "output_type": "stream",
     "text": [
      "Servicenow 11 21\n",
      "incident 22 30\n",
      "Mail 35 39\n"
     ]
    }
   ],
   "source": [
    "import re\n",
    "doc = nlp(\"Is there a Servicenow incident for Mail\")\n",
    "list_of_strings = [\"Servicenow\", \"incident\", \"Mail\"]\n",
    "for s in list_of_strings:\n",
    "    res = re.search(s,doc.text)\n",
    "    if res:\n",
    "        print(s , res.start(), res.end())\n"
   ]
  },
  {
   "cell_type": "code",
   "execution_count": null,
   "metadata": {},
   "outputs": [],
   "source": []
  }
 ],
 "metadata": {
  "kernelspec": {
   "display_name": "Python 3",
   "language": "python",
   "name": "python3"
  },
  "language_info": {
   "codemirror_mode": {
    "name": "ipython",
    "version": 3
   },
   "file_extension": ".py",
   "mimetype": "text/x-python",
   "name": "python",
   "nbconvert_exporter": "python",
   "pygments_lexer": "ipython3",
   "version": "3.8.2"
  }
 },
 "nbformat": 4,
 "nbformat_minor": 4
}
