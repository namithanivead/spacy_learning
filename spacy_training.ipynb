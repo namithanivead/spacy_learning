{
 "cells": [
  {
   "cell_type": "code",
   "execution_count": 1,
   "metadata": {},
   "outputs": [
    {
     "data": {
      "text/plain": [
       "'2.3.5'"
      ]
     },
     "execution_count": 1,
     "metadata": {},
     "output_type": "execute_result"
    }
   ],
   "source": [
    "import spacy\n",
    "spacy.__version__"
   ]
  },
  {
   "cell_type": "code",
   "execution_count": 2,
   "metadata": {},
   "outputs": [
    {
     "name": "stdout",
     "output_type": "stream",
     "text": [
      "['tagger', 'parser', 'ner']\n"
     ]
    }
   ],
   "source": [
    "import spacy\n",
    "nlp = spacy.load('en')\n",
    "print(nlp.pipe_names)\n",
    "#doc = nlp(u'Is there any incident in Servicenow for Mail in less than 24 hours')\n",
    "#for token in doc:\n",
    "#    print(token.text, token.pos_)"
   ]
  },
  {
   "cell_type": "code",
   "execution_count": 6,
   "metadata": {},
   "outputs": [
    {
     "name": "stdout",
     "output_type": "stream",
     "text": [
      "Is be VBZ ROOT True\n",
      "there there EX expl True\n",
      "any any DT det True\n",
      "incident incident NN attr False\n",
      "in in IN prep True\n",
      "Servicenow Servicenow NNP pobj False\n",
      "for for IN prep True\n",
      "Mail Mail NNP pobj False\n"
     ]
    }
   ],
   "source": [
    "for token in doc:\n",
    "    print(token.text,token.lemma_,token.tag_,token.dep_,token.is_stop)"
   ]
  },
  {
   "cell_type": "code",
   "execution_count": 20,
   "metadata": {},
   "outputs": [
    {
     "name": "stdout",
     "output_type": "stream",
     "text": [
      "less than 24 hours TIME\n"
     ]
    }
   ],
   "source": [
    "\n",
    "nlp = spacy.load('en')\n",
    "doc = nlp(u'Is there any  Servicenow Incident for Yahoo Mail in less than 24 hours')\n",
    "#doc = nlp(u'Google has its headquartes in Mountain View, California')\n",
    "for ent in doc.ents:\n",
    "    print(ent.text, ent.label_)"
   ]
  },
  {
   "cell_type": "code",
   "execution_count": 21,
   "metadata": {},
   "outputs": [
    {
     "data": {
      "text/plain": [
       "['tagger', 'parser', 'ner']"
      ]
     },
     "execution_count": 21,
     "metadata": {},
     "output_type": "execute_result"
    }
   ],
   "source": [
    "import spacy\n",
    "nlp=spacy.load('en_core_web_sm')\n",
    "nlp.pipe_names"
   ]
  },
  {
   "cell_type": "code",
   "execution_count": 30,
   "metadata": {},
   "outputs": [
    {
     "ename": "AttributeError",
     "evalue": "'spacy.tokens.token.Token' object has no attribute 'start_char'",
     "output_type": "error",
     "traceback": [
      "\u001b[0;31m---------------------------------------------------------------------------\u001b[0m",
      "\u001b[0;31mAttributeError\u001b[0m                            Traceback (most recent call last)",
      "\u001b[0;32m<ipython-input-30-c70497d6db2e>\u001b[0m in \u001b[0;36m<module>\u001b[0;34m\u001b[0m\n\u001b[1;32m      8\u001b[0m \u001b[0mdoc1\u001b[0m \u001b[0;34m=\u001b[0m \u001b[0mnlp1\u001b[0m\u001b[0;34m(\u001b[0m\u001b[0;34m\"Who is Kofi Annan\"\u001b[0m\u001b[0;34m)\u001b[0m\u001b[0;34m\u001b[0m\u001b[0;34m\u001b[0m\u001b[0m\n\u001b[1;32m      9\u001b[0m \u001b[0;32mfor\u001b[0m \u001b[0ment\u001b[0m \u001b[0;32min\u001b[0m \u001b[0mdoc1\u001b[0m\u001b[0;34m:\u001b[0m\u001b[0;34m\u001b[0m\u001b[0;34m\u001b[0m\u001b[0m\n\u001b[0;32m---> 10\u001b[0;31m     \u001b[0mprint\u001b[0m\u001b[0;34m(\u001b[0m\u001b[0ment\u001b[0m\u001b[0;34m.\u001b[0m\u001b[0mtext\u001b[0m\u001b[0;34m,\u001b[0m \u001b[0ment\u001b[0m\u001b[0;34m.\u001b[0m\u001b[0mstart_char\u001b[0m\u001b[0;34m,\u001b[0m \u001b[0ment\u001b[0m\u001b[0;34m.\u001b[0m\u001b[0mend_char\u001b[0m\u001b[0;34m)\u001b[0m\u001b[0;34m\u001b[0m\u001b[0;34m\u001b[0m\u001b[0m\n\u001b[0m",
      "\u001b[0;31mAttributeError\u001b[0m: 'spacy.tokens.token.Token' object has no attribute 'start_char'"
     ]
    }
   ],
   "source": [
    "from __future__ import unicode_literals, print_function\n",
    "import plac\n",
    "import random\n",
    "from pathlib import Path\n",
    "import spacy\n",
    "from tqdm import tqdm\n",
    "nlp1 = spacy.load('en_core_web_sm')\n",
    "doc1 = nlp1(\"Who is Kofi Annan\")\n",
    "for ent in doc1:\n",
    "    print(ent.text, ent.start_char, ent.end_char)"
   ]
  },
  {
   "cell_type": "code",
   "execution_count": 11,
   "metadata": {},
   "outputs": [
    {
     "name": "stderr",
     "output_type": "stream",
     "text": [
      " 67%|██████▋   | 6/9 [00:00<00:00, 59.71it/s]"
     ]
    },
    {
     "name": "stdout",
     "output_type": "stream",
     "text": [
      "Created blank 'en' model\n"
     ]
    },
    {
     "name": "stderr",
     "output_type": "stream",
     "text": [
      "100%|██████████| 9/9 [00:00<00:00, 65.56it/s]\n",
      "100%|██████████| 9/9 [00:00<00:00, 76.59it/s]\n",
      "  0%|          | 0/9 [00:00<?, ?it/s]"
     ]
    },
    {
     "name": "stdout",
     "output_type": "stream",
     "text": [
      "{'ner': 57.53520422056317}\n",
      "{'ner': 36.604497876018286}\n"
     ]
    },
    {
     "name": "stderr",
     "output_type": "stream",
     "text": [
      "100%|██████████| 9/9 [00:00<00:00, 75.44it/s]\n",
      "100%|██████████| 9/9 [00:00<00:00, 75.68it/s]\n",
      "  0%|          | 0/9 [00:00<?, ?it/s]"
     ]
    },
    {
     "name": "stdout",
     "output_type": "stream",
     "text": [
      "{'ner': 32.13148575862215}\n",
      "{'ner': 31.22045943697958}\n"
     ]
    },
    {
     "name": "stderr",
     "output_type": "stream",
     "text": [
      "100%|██████████| 9/9 [00:00<00:00, 73.85it/s]\n",
      "100%|██████████| 9/9 [00:00<00:00, 70.12it/s]\n",
      "  0%|          | 0/9 [00:00<?, ?it/s]"
     ]
    },
    {
     "name": "stdout",
     "output_type": "stream",
     "text": [
      "{'ner': 27.852616898515407}\n",
      "{'ner': 25.484280724765085}\n"
     ]
    },
    {
     "name": "stderr",
     "output_type": "stream",
     "text": [
      "100%|██████████| 9/9 [00:00<00:00, 74.61it/s]\n",
      "100%|██████████| 9/9 [00:00<00:00, 76.20it/s]\n",
      "  0%|          | 0/9 [00:00<?, ?it/s]"
     ]
    },
    {
     "name": "stdout",
     "output_type": "stream",
     "text": [
      "{'ner': 23.667716161999863}\n",
      "{'ner': 22.029655415034085}\n"
     ]
    },
    {
     "name": "stderr",
     "output_type": "stream",
     "text": [
      "100%|██████████| 9/9 [00:00<00:00, 76.36it/s]\n",
      "100%|██████████| 9/9 [00:00<00:00, 76.01it/s]\n",
      "  0%|          | 0/9 [00:00<?, ?it/s]"
     ]
    },
    {
     "name": "stdout",
     "output_type": "stream",
     "text": [
      "{'ner': 19.48471183388324}\n",
      "{'ner': 14.140313144400352}\n"
     ]
    },
    {
     "name": "stderr",
     "output_type": "stream",
     "text": [
      "100%|██████████| 9/9 [00:00<00:00, 75.10it/s]\n",
      "100%|██████████| 9/9 [00:00<00:00, 75.79it/s]\n",
      "  0%|          | 0/9 [00:00<?, ?it/s]"
     ]
    },
    {
     "name": "stdout",
     "output_type": "stream",
     "text": [
      "{'ner': 12.442394200811124}\n",
      "{'ner': 4.998963208202502}\n"
     ]
    },
    {
     "name": "stderr",
     "output_type": "stream",
     "text": [
      "100%|██████████| 9/9 [00:00<00:00, 74.38it/s]\n",
      "100%|██████████| 9/9 [00:00<00:00, 74.77it/s]\n",
      "  0%|          | 0/9 [00:00<?, ?it/s]"
     ]
    },
    {
     "name": "stdout",
     "output_type": "stream",
     "text": [
      "{'ner': 6.135284051574371}\n",
      "{'ner': 1.5614801421056872}\n"
     ]
    },
    {
     "name": "stderr",
     "output_type": "stream",
     "text": [
      "100%|██████████| 9/9 [00:00<00:00, 76.29it/s]\n",
      "100%|██████████| 9/9 [00:00<00:00, 76.54it/s]\n",
      "  0%|          | 0/9 [00:00<?, ?it/s]"
     ]
    },
    {
     "name": "stdout",
     "output_type": "stream",
     "text": [
      "{'ner': 0.800148405121469}\n",
      "{'ner': 3.5226014512397077}\n"
     ]
    },
    {
     "name": "stderr",
     "output_type": "stream",
     "text": [
      "100%|██████████| 9/9 [00:00<00:00, 65.62it/s]\n",
      "100%|██████████| 9/9 [00:00<00:00, 75.61it/s]\n",
      "  0%|          | 0/9 [00:00<?, ?it/s]"
     ]
    },
    {
     "name": "stdout",
     "output_type": "stream",
     "text": [
      "{'ner': 1.0960090116984404}\n",
      "{'ner': 1.8653838791959023}\n"
     ]
    },
    {
     "name": "stderr",
     "output_type": "stream",
     "text": [
      "100%|██████████| 9/9 [00:00<00:00, 76.80it/s]\n",
      "100%|██████████| 9/9 [00:00<00:00, 76.01it/s]\n",
      "  0%|          | 0/9 [00:00<?, ?it/s]"
     ]
    },
    {
     "name": "stdout",
     "output_type": "stream",
     "text": [
      "{'ner': 1.6457640249893057}\n",
      "{'ner': 0.1250870176747967}\n"
     ]
    },
    {
     "name": "stderr",
     "output_type": "stream",
     "text": [
      "100%|██████████| 9/9 [00:00<00:00, 75.20it/s]\n",
      "100%|██████████| 9/9 [00:00<00:00, 76.27it/s]\n",
      "  0%|          | 0/9 [00:00<?, ?it/s]"
     ]
    },
    {
     "name": "stdout",
     "output_type": "stream",
     "text": [
      "{'ner': 0.056929111564506106}\n",
      "{'ner': 0.8130217521269281}\n"
     ]
    },
    {
     "name": "stderr",
     "output_type": "stream",
     "text": [
      "100%|██████████| 9/9 [00:00<00:00, 76.10it/s]\n",
      "100%|██████████| 9/9 [00:00<00:00, 76.07it/s]\n",
      "  0%|          | 0/9 [00:00<?, ?it/s]"
     ]
    },
    {
     "name": "stdout",
     "output_type": "stream",
     "text": [
      "{'ner': 1.179400450921923}\n",
      "{'ner': 0.6409087700724777}\n"
     ]
    },
    {
     "name": "stderr",
     "output_type": "stream",
     "text": [
      "100%|██████████| 9/9 [00:00<00:00, 77.10it/s]\n",
      "100%|██████████| 9/9 [00:00<00:00, 76.81it/s]\n",
      "  0%|          | 0/9 [00:00<?, ?it/s]"
     ]
    },
    {
     "name": "stdout",
     "output_type": "stream",
     "text": [
      "{'ner': 3.240760774402799e-05}\n",
      "{'ner': 0.05945172471031278}\n"
     ]
    },
    {
     "name": "stderr",
     "output_type": "stream",
     "text": [
      "100%|██████████| 9/9 [00:00<00:00, 77.92it/s]\n",
      "100%|██████████| 9/9 [00:00<00:00, 79.51it/s]\n",
      "  0%|          | 0/9 [00:00<?, ?it/s]"
     ]
    },
    {
     "name": "stdout",
     "output_type": "stream",
     "text": [
      "{'ner': 0.00034468194232716915}\n",
      "{'ner': 0.0676644406721661}\n"
     ]
    },
    {
     "name": "stderr",
     "output_type": "stream",
     "text": [
      "100%|██████████| 9/9 [00:00<00:00, 75.52it/s]\n",
      "100%|██████████| 9/9 [00:00<00:00, 71.97it/s]\n",
      "  0%|          | 0/9 [00:00<?, ?it/s]"
     ]
    },
    {
     "name": "stdout",
     "output_type": "stream",
     "text": [
      "{'ner': 1.8967304888749819}\n",
      "{'ner': 1.4956304045664124}\n"
     ]
    },
    {
     "name": "stderr",
     "output_type": "stream",
     "text": [
      "100%|██████████| 9/9 [00:00<00:00, 76.61it/s]\n",
      "100%|██████████| 9/9 [00:00<00:00, 77.40it/s]\n",
      "  0%|          | 0/9 [00:00<?, ?it/s]"
     ]
    },
    {
     "name": "stdout",
     "output_type": "stream",
     "text": [
      "{'ner': 0.5356712996836528}\n",
      "{'ner': 2.085600293027663e-05}\n"
     ]
    },
    {
     "name": "stderr",
     "output_type": "stream",
     "text": [
      "100%|██████████| 9/9 [00:00<00:00, 76.66it/s]\n",
      "100%|██████████| 9/9 [00:00<00:00, 79.25it/s]\n",
      "  0%|          | 0/9 [00:00<?, ?it/s]"
     ]
    },
    {
     "name": "stdout",
     "output_type": "stream",
     "text": [
      "{'ner': 1.6834472688193802}\n",
      "{'ner': 0.00300888827141291}\n"
     ]
    },
    {
     "name": "stderr",
     "output_type": "stream",
     "text": [
      "100%|██████████| 9/9 [00:00<00:00, 77.12it/s]\n",
      "100%|██████████| 9/9 [00:00<00:00, 77.40it/s]\n",
      "  0%|          | 0/9 [00:00<?, ?it/s]"
     ]
    },
    {
     "name": "stdout",
     "output_type": "stream",
     "text": [
      "{'ner': 6.985717156256155e-05}\n",
      "{'ner': 0.41848259142043986}\n"
     ]
    },
    {
     "name": "stderr",
     "output_type": "stream",
     "text": [
      "100%|██████████| 9/9 [00:00<00:00, 76.57it/s]\n",
      "100%|██████████| 9/9 [00:00<00:00, 79.74it/s]\n",
      "  0%|          | 0/9 [00:00<?, ?it/s]"
     ]
    },
    {
     "name": "stdout",
     "output_type": "stream",
     "text": [
      "{'ner': 0.000828438515803535}\n",
      "{'ner': 0.007363983186527291}\n"
     ]
    },
    {
     "name": "stderr",
     "output_type": "stream",
     "text": [
      "100%|██████████| 9/9 [00:00<00:00, 77.16it/s]\n",
      "100%|██████████| 9/9 [00:00<00:00, 70.66it/s]\n",
      "  0%|          | 0/9 [00:00<?, ?it/s]"
     ]
    },
    {
     "name": "stdout",
     "output_type": "stream",
     "text": [
      "{'ner': 4.0561996572028066e-05}\n",
      "{'ner': 1.978659426692538}\n"
     ]
    },
    {
     "name": "stderr",
     "output_type": "stream",
     "text": [
      "100%|██████████| 9/9 [00:00<00:00, 75.81it/s]\n",
      "100%|██████████| 9/9 [00:00<00:00, 76.86it/s]\n",
      "  0%|          | 0/9 [00:00<?, ?it/s]"
     ]
    },
    {
     "name": "stdout",
     "output_type": "stream",
     "text": [
      "{'ner': 0.004725187119539436}\n",
      "{'ner': 0.011944522730302824}\n"
     ]
    },
    {
     "name": "stderr",
     "output_type": "stream",
     "text": [
      "100%|██████████| 9/9 [00:00<00:00, 77.56it/s]\n",
      "100%|██████████| 9/9 [00:00<00:00, 76.94it/s]\n",
      "  0%|          | 0/9 [00:00<?, ?it/s]"
     ]
    },
    {
     "name": "stdout",
     "output_type": "stream",
     "text": [
      "{'ner': 0.0009561518731316956}\n",
      "{'ner': 0.0003987963919675129}\n"
     ]
    },
    {
     "name": "stderr",
     "output_type": "stream",
     "text": [
      "100%|██████████| 9/9 [00:00<00:00, 77.06it/s]\n",
      "100%|██████████| 9/9 [00:00<00:00, 80.71it/s]\n",
      "  0%|          | 0/9 [00:00<?, ?it/s]"
     ]
    },
    {
     "name": "stdout",
     "output_type": "stream",
     "text": [
      "{'ner': 1.596904093785739e-06}\n",
      "{'ner': 0.3170406821828333}\n"
     ]
    },
    {
     "name": "stderr",
     "output_type": "stream",
     "text": [
      "100%|██████████| 9/9 [00:00<00:00, 88.43it/s]\n",
      "100%|██████████| 9/9 [00:00<00:00, 75.05it/s]\n",
      "  0%|          | 0/9 [00:00<?, ?it/s]"
     ]
    },
    {
     "name": "stdout",
     "output_type": "stream",
     "text": [
      "{'ner': 0.0010453203589875103}\n",
      "{'ner': 1.55397693081585e-05}\n"
     ]
    },
    {
     "name": "stderr",
     "output_type": "stream",
     "text": [
      "100%|██████████| 9/9 [00:00<00:00, 73.01it/s]\n",
      "100%|██████████| 9/9 [00:00<00:00, 79.08it/s]\n",
      "  0%|          | 0/9 [00:00<?, ?it/s]"
     ]
    },
    {
     "name": "stdout",
     "output_type": "stream",
     "text": [
      "{'ner': 0.00521651810084858}\n",
      "{'ner': 0.00010321751129107371}\n"
     ]
    },
    {
     "name": "stderr",
     "output_type": "stream",
     "text": [
      "100%|██████████| 9/9 [00:00<00:00, 76.45it/s]\n",
      "100%|██████████| 9/9 [00:00<00:00, 77.98it/s]\n",
      "  0%|          | 0/9 [00:00<?, ?it/s]"
     ]
    },
    {
     "name": "stdout",
     "output_type": "stream",
     "text": [
      "{'ner': 4.096940631436539e-05}\n",
      "{'ner': 7.67434074070466e-05}\n"
     ]
    },
    {
     "name": "stderr",
     "output_type": "stream",
     "text": [
      "100%|██████████| 9/9 [00:00<00:00, 77.49it/s]\n",
      "100%|██████████| 9/9 [00:00<00:00, 74.78it/s]\n",
      "  0%|          | 0/9 [00:00<?, ?it/s]"
     ]
    },
    {
     "name": "stdout",
     "output_type": "stream",
     "text": [
      "{'ner': 8.890931799615509e-08}\n",
      "{'ner': 0.3318349578655717}\n"
     ]
    },
    {
     "name": "stderr",
     "output_type": "stream",
     "text": [
      "100%|██████████| 9/9 [00:00<00:00, 75.56it/s]\n",
      "100%|██████████| 9/9 [00:00<00:00, 74.99it/s]\n",
      "  0%|          | 0/9 [00:00<?, ?it/s]"
     ]
    },
    {
     "name": "stdout",
     "output_type": "stream",
     "text": [
      "{'ner': 8.404577712489518e-07}\n",
      "{'ner': 0.11869289507038021}\n"
     ]
    },
    {
     "name": "stderr",
     "output_type": "stream",
     "text": [
      "100%|██████████| 9/9 [00:00<00:00, 75.38it/s]\n",
      "100%|██████████| 9/9 [00:00<00:00, 74.67it/s]\n",
      "  0%|          | 0/9 [00:00<?, ?it/s]"
     ]
    },
    {
     "name": "stdout",
     "output_type": "stream",
     "text": [
      "{'ner': 0.006075241882935198}\n",
      "{'ner': 0.04710350404853676}\n"
     ]
    },
    {
     "name": "stderr",
     "output_type": "stream",
     "text": [
      "100%|██████████| 9/9 [00:00<00:00, 73.44it/s]\n",
      "100%|██████████| 9/9 [00:00<00:00, 70.68it/s]\n",
      "  0%|          | 0/9 [00:00<?, ?it/s]"
     ]
    },
    {
     "name": "stdout",
     "output_type": "stream",
     "text": [
      "{'ner': 1.2378092797242033e-06}\n",
      "{'ner': 0.004066267528520606}\n"
     ]
    },
    {
     "name": "stderr",
     "output_type": "stream",
     "text": [
      "100%|██████████| 9/9 [00:00<00:00, 75.19it/s]\n",
      "100%|██████████| 9/9 [00:00<00:00, 70.42it/s]\n",
      "  0%|          | 0/9 [00:00<?, ?it/s]"
     ]
    },
    {
     "name": "stdout",
     "output_type": "stream",
     "text": [
      "{'ner': 1.9359701480168715e-06}\n",
      "{'ner': 4.8521452062049715e-09}\n"
     ]
    },
    {
     "name": "stderr",
     "output_type": "stream",
     "text": [
      "100%|██████████| 9/9 [00:00<00:00, 62.04it/s]\n",
      "100%|██████████| 9/9 [00:00<00:00, 60.95it/s]\n",
      "  0%|          | 0/9 [00:00<?, ?it/s]"
     ]
    },
    {
     "name": "stdout",
     "output_type": "stream",
     "text": [
      "{'ner': 0.09778392259330952}\n",
      "{'ner': 0.0004472652703507217}\n"
     ]
    },
    {
     "name": "stderr",
     "output_type": "stream",
     "text": [
      "100%|██████████| 9/9 [00:00<00:00, 59.51it/s]\n",
      "100%|██████████| 9/9 [00:00<00:00, 58.13it/s]\n",
      "  0%|          | 0/9 [00:00<?, ?it/s]"
     ]
    },
    {
     "name": "stdout",
     "output_type": "stream",
     "text": [
      "{'ner': 0.08129840245659944}\n",
      "{'ner': 1.0721274890405802e-06}\n"
     ]
    },
    {
     "name": "stderr",
     "output_type": "stream",
     "text": [
      "100%|██████████| 9/9 [00:00<00:00, 54.48it/s]\n",
      "100%|██████████| 9/9 [00:00<00:00, 53.25it/s]\n",
      "  0%|          | 0/9 [00:00<?, ?it/s]"
     ]
    },
    {
     "name": "stdout",
     "output_type": "stream",
     "text": [
      "{'ner': 0.016231572634327326}\n",
      "{'ner': 0.00012368961713826965}\n"
     ]
    },
    {
     "name": "stderr",
     "output_type": "stream",
     "text": [
      "100%|██████████| 9/9 [00:00<00:00, 52.10it/s]\n",
      "100%|██████████| 9/9 [00:00<00:00, 50.31it/s]\n",
      "  0%|          | 0/9 [00:00<?, ?it/s]"
     ]
    },
    {
     "name": "stdout",
     "output_type": "stream",
     "text": [
      "{'ner': 4.397098581311206e-05}\n",
      "{'ner': 2.0208974183640867}\n"
     ]
    },
    {
     "name": "stderr",
     "output_type": "stream",
     "text": [
      "100%|██████████| 9/9 [00:00<00:00, 50.10it/s]\n",
      "100%|██████████| 9/9 [00:00<00:00, 49.78it/s]\n",
      "  0%|          | 0/9 [00:00<?, ?it/s]"
     ]
    },
    {
     "name": "stdout",
     "output_type": "stream",
     "text": [
      "{'ner': 0.03369419913564677}\n",
      "{'ner': 8.587292661283943e-06}\n"
     ]
    },
    {
     "name": "stderr",
     "output_type": "stream",
     "text": [
      "100%|██████████| 9/9 [00:00<00:00, 48.51it/s]\n",
      "100%|██████████| 9/9 [00:00<00:00, 48.31it/s]\n",
      "  0%|          | 0/9 [00:00<?, ?it/s]"
     ]
    },
    {
     "name": "stdout",
     "output_type": "stream",
     "text": [
      "{'ner': 0.00011479508359448776}\n",
      "{'ner': 2.7313750403274993e-06}\n"
     ]
    },
    {
     "name": "stderr",
     "output_type": "stream",
     "text": [
      "100%|██████████| 9/9 [00:00<00:00, 48.78it/s]\n",
      "100%|██████████| 9/9 [00:00<00:00, 48.15it/s]\n",
      "  0%|          | 0/9 [00:00<?, ?it/s]"
     ]
    },
    {
     "name": "stdout",
     "output_type": "stream",
     "text": [
      "{'ner': 1.1564983953124855e-09}\n",
      "{'ner': 5.424092831319154e-06}\n"
     ]
    },
    {
     "name": "stderr",
     "output_type": "stream",
     "text": [
      "100%|██████████| 9/9 [00:00<00:00, 47.99it/s]\n",
      "100%|██████████| 9/9 [00:00<00:00, 48.81it/s]\n",
      "  0%|          | 0/9 [00:00<?, ?it/s]"
     ]
    },
    {
     "name": "stdout",
     "output_type": "stream",
     "text": [
      "{'ner': 3.5400818838998617e-07}\n",
      "{'ner': 0.030239287362370658}\n"
     ]
    },
    {
     "name": "stderr",
     "output_type": "stream",
     "text": [
      "100%|██████████| 9/9 [00:00<00:00, 46.88it/s]\n",
      "100%|██████████| 9/9 [00:00<00:00, 47.90it/s]\n",
      "  0%|          | 0/9 [00:00<?, ?it/s]"
     ]
    },
    {
     "name": "stdout",
     "output_type": "stream",
     "text": [
      "{'ner': 3.0501280167439805e-07}\n",
      "{'ner': 5.282157978361741e-07}\n"
     ]
    },
    {
     "name": "stderr",
     "output_type": "stream",
     "text": [
      "100%|██████████| 9/9 [00:00<00:00, 47.91it/s]\n",
      "100%|██████████| 9/9 [00:00<00:00, 48.62it/s]\n",
      "  0%|          | 0/9 [00:00<?, ?it/s]"
     ]
    },
    {
     "name": "stdout",
     "output_type": "stream",
     "text": [
      "{'ner': 1.686570747601978e-07}\n",
      "{'ner': 1.4854355713489651e-05}\n"
     ]
    },
    {
     "name": "stderr",
     "output_type": "stream",
     "text": [
      "100%|██████████| 9/9 [00:00<00:00, 47.02it/s]\n",
      "100%|██████████| 9/9 [00:00<00:00, 49.30it/s]\n",
      "  0%|          | 0/9 [00:00<?, ?it/s]"
     ]
    },
    {
     "name": "stdout",
     "output_type": "stream",
     "text": [
      "{'ner': 3.209379462044733e-05}\n",
      "{'ner': 8.640009608904262e-07}\n"
     ]
    },
    {
     "name": "stderr",
     "output_type": "stream",
     "text": [
      "100%|██████████| 9/9 [00:00<00:00, 48.10it/s]\n",
      "100%|██████████| 9/9 [00:00<00:00, 46.92it/s]\n",
      "  0%|          | 0/9 [00:00<?, ?it/s]"
     ]
    },
    {
     "name": "stdout",
     "output_type": "stream",
     "text": [
      "{'ner': 0.00013105435013414474}\n",
      "{'ner': 0.29604928872405517}\n"
     ]
    },
    {
     "name": "stderr",
     "output_type": "stream",
     "text": [
      "100%|██████████| 9/9 [00:00<00:00, 43.92it/s]\n",
      " 56%|█████▌    | 5/9 [00:00<00:00, 43.23it/s]"
     ]
    },
    {
     "name": "stdout",
     "output_type": "stream",
     "text": [
      "{'ner': 1.1319598172733252e-05}\n"
     ]
    },
    {
     "name": "stderr",
     "output_type": "stream",
     "text": [
      "100%|██████████| 9/9 [00:00<00:00, 43.93it/s]\n",
      "100%|██████████| 9/9 [00:00<00:00, 52.35it/s]\n",
      "  0%|          | 0/9 [00:00<?, ?it/s]"
     ]
    },
    {
     "name": "stdout",
     "output_type": "stream",
     "text": [
      "{'ner': 0.1814049761151646}\n",
      "{'ner': 0.0020973743765077897}\n"
     ]
    },
    {
     "name": "stderr",
     "output_type": "stream",
     "text": [
      "100%|██████████| 9/9 [00:00<00:00, 50.63it/s]\n",
      "100%|██████████| 9/9 [00:00<00:00, 53.37it/s]\n",
      "  0%|          | 0/9 [00:00<?, ?it/s]"
     ]
    },
    {
     "name": "stdout",
     "output_type": "stream",
     "text": [
      "{'ner': 7.075213298249501e-05}\n",
      "{'ner': 6.862402125827662e-06}\n"
     ]
    },
    {
     "name": "stderr",
     "output_type": "stream",
     "text": [
      "100%|██████████| 9/9 [00:00<00:00, 52.36it/s]\n",
      "100%|██████████| 9/9 [00:00<00:00, 51.40it/s]\n",
      "  0%|          | 0/9 [00:00<?, ?it/s]"
     ]
    },
    {
     "name": "stdout",
     "output_type": "stream",
     "text": [
      "{'ner': 0.7469806191242777}\n",
      "{'ner': 7.55909775745843e-09}\n"
     ]
    },
    {
     "name": "stderr",
     "output_type": "stream",
     "text": [
      "100%|██████████| 9/9 [00:00<00:00, 52.05it/s]\n",
      "100%|██████████| 9/9 [00:00<00:00, 52.78it/s]\n",
      "  0%|          | 0/9 [00:00<?, ?it/s]"
     ]
    },
    {
     "name": "stdout",
     "output_type": "stream",
     "text": [
      "{'ner': 0.003342667592539261}\n",
      "{'ner': 2.1309516945834266e-09}\n"
     ]
    },
    {
     "name": "stderr",
     "output_type": "stream",
     "text": [
      "100%|██████████| 9/9 [00:00<00:00, 53.17it/s]\n",
      "100%|██████████| 9/9 [00:00<00:00, 53.25it/s]\n",
      "  0%|          | 0/9 [00:00<?, ?it/s]"
     ]
    },
    {
     "name": "stdout",
     "output_type": "stream",
     "text": [
      "{'ner': 8.987212922625415e-05}\n",
      "{'ner': 0.0005773836879503959}\n"
     ]
    },
    {
     "name": "stderr",
     "output_type": "stream",
     "text": [
      "100%|██████████| 9/9 [00:00<00:00, 54.87it/s]\n",
      "100%|██████████| 9/9 [00:00<00:00, 56.24it/s]\n",
      "  0%|          | 0/9 [00:00<?, ?it/s]"
     ]
    },
    {
     "name": "stdout",
     "output_type": "stream",
     "text": [
      "{'ner': 0.055372740204520626}\n",
      "{'ner': 2.851135220194281e-05}\n"
     ]
    },
    {
     "name": "stderr",
     "output_type": "stream",
     "text": [
      "100%|██████████| 9/9 [00:00<00:00, 56.14it/s]"
     ]
    },
    {
     "name": "stdout",
     "output_type": "stream",
     "text": [
      "{'ner': 0.0016656671082991134}\n",
      "Saved model to /Users/namithav/demo_chatbot/ner\n",
      "Entities [('incidents', 'SERVICENOW'), ('Mail', 'PROPERTY')]\n",
      "Entities [('servicenow', 'SERVICENOW'), ('incident', 'SERVICENOW'), ('mail', 'PROPERTY')]\n",
      "Entities [('incident', 'SERVICENOW'), ('Mail', 'PROPERTY')]\n",
      "Entities [('incidents', 'SERVICENOW'), ('Servicenow', 'SERVICENOW'), ('Mail', 'PROPERTY')]\n",
      "Entities [('ongoing', 'TIME'), ('outage', 'SERVICENOW'), ('Mail', 'PROPERTY')]\n",
      "Entities [('ongoing', 'TIME'), ('outages', 'SERVICENOW')]\n",
      "Entities [('incidents', 'SERVICENOW'), ('mail', 'PROPERTY')]\n",
      "Entities [('ongoing', 'TIME'), ('incident', 'SERVICENOW'), ('Mail', 'PROPERTY')]\n",
      "Entities [('Servicenow', 'SERVICENOW'), ('incident', 'SERVICENOW'), ('Mail', 'PROPERTY')]\n"
     ]
    },
    {
     "name": "stderr",
     "output_type": "stream",
     "text": [
      "\n"
     ]
    }
   ],
   "source": [
    "from __future__ import unicode_literals, print_function\n",
    "import plac\n",
    "import random\n",
    "from pathlib import Path\n",
    "import spacy\n",
    "from tqdm import tqdm\n",
    "\n",
    "# training data\n",
    "TRAIN_DATA = [\n",
    "              (\"Is there a Servicenow incident for Mail\", {\"entities\": [(11, 22, \"SERVICENOW\"), (22,30, \"SERVICENOW\"),(35,39, \"PROPERTY\")]}),\n",
    "              (\"List all servicenow incident for mail\", {\"entities\":[(9, 19, \"SERVICENOW\"), (20,28,\"SERVICENOW\"),(33,37,\"PROPERTY\")]}),\n",
    "              (\"Get all open incidents for mail\", {\"entities\": [(13,21, \"SERVICENOW\"),(26,30,\"PROPERTY\")]}),\n",
    "              (\"list all ongoing outages\", {\"entities\": [(9,16, \"TIME\"),(17,23, \"SERVICENOW\")]}),\n",
    "              (\"Get all the incident that impacted Mail between yesterday and today\", {\"entities\": [(12,20, \"SERVICENOW\"),(35,39, \"PROPERTY\")]}),\n",
    "              (\"Is there any ongoing incident for Mail\", {\"entities\": [(13, 20, \"TIME\"),(21,29, \"SERVICENOW\"),(34,38, \"PROPERTY\")]}),\n",
    "              (\"Is there any ongoing outage that is impacting Mail\", {\"entities\":[(13,20,\"TIME\"),(21,27,\"SERVICENOW\"),(46,50,\"PROPERTY\")]}),\n",
    "              (\"List all incidents that impacted Mail in last 48 hours\", {\"entities\":[(9, 18, \"SERVICENOW\"),(33,37,\"PROPERTY\")]}),\n",
    "            (\"List all Open incidents in Servicenow that is impacting Mail\", {\"entities\":[(14,23,\"SERVICENOW\"),(27,37,\"SERVICENOW\"),(56,60,\"PROPERTY\")]})\n",
    "    ]\n",
    "\n",
    "\n",
    "model = None\n",
    "output_dir=Path(\"/Users/namithav/demo_chatbot/ner\")\n",
    "n_iter=100\n",
    "\n",
    "#load the model\n",
    "\n",
    "if model is not None:\n",
    "    nlp = spacy.load(model)\n",
    "    print(\"Loaded model '%s'\" % model)\n",
    "else:\n",
    "    nlp = spacy.blank('en')\n",
    "    print(\"Created blank 'en' model\")\n",
    "\n",
    "#set up the pipeline\n",
    "\n",
    "if 'ner' not in nlp.pipe_names:\n",
    "    ner = nlp.create_pipe('ner')\n",
    "    nlp.add_pipe(ner, last=True)\n",
    "else:\n",
    "    ner = nlp.get_pipe('ner')\n",
    "\n",
    "for _, annotations in TRAIN_DATA:\n",
    "    for ent in annotations.get('entities'):\n",
    "        ner.add_label(ent[2])\n",
    "\n",
    "other_pipes = [pipe for pipe in nlp.pipe_names if pipe != 'ner']\n",
    "with nlp.disable_pipes(*other_pipes):  # only train NER\n",
    "    optimizer = nlp.begin_training()\n",
    "    for itn in range(n_iter):\n",
    "        random.shuffle(TRAIN_DATA)\n",
    "        losses = {}\n",
    "        for text, annotations in tqdm(TRAIN_DATA):\n",
    "            nlp.update(\n",
    "                [text],\n",
    "                [annotations],\n",
    "                drop=0.5,\n",
    "                sgd=optimizer,\n",
    "                losses=losses)\n",
    "        print(losses)\n",
    "nlp.to_disk(output_dir)\n",
    "print(\"Saved model to\", output_dir)\n",
    "for text, _ in TRAIN_DATA:\n",
    "    doc = nlp(text)\n",
    "    print('Entities', [(ent.text, ent.label_) for ent in doc.ents])"
   ]
  },
  {
   "cell_type": "code",
   "execution_count": 12,
   "metadata": {},
   "outputs": [
    {
     "name": "stdout",
     "output_type": "stream",
     "text": [
      "List all incidents that impacted Mail in last 48 hours\n",
      "Entities [('incidents', 'SERVICENOW'), ('Mail', 'PROPERTY')]\n",
      "List all servicenow incident for mail\n",
      "Entities [('servicenow', 'SERVICENOW'), ('incident', 'SERVICENOW'), ('mail', 'PROPERTY')]\n",
      "Get all the incident that impacted Mail between yesterday and today\n",
      "Entities [('incident', 'SERVICENOW'), ('Mail', 'PROPERTY')]\n",
      "List all Open incidents in Servicenow that is impacting Mail\n",
      "Entities [('incidents', 'SERVICENOW'), ('Servicenow', 'SERVICENOW'), ('Mail', 'PROPERTY')]\n",
      "Is there any ongoing outage that is impacting Mail\n",
      "Entities [('ongoing', 'TIME'), ('outage', 'SERVICENOW'), ('Mail', 'PROPERTY')]\n",
      "list all ongoing outages\n",
      "Entities [('ongoing', 'TIME'), ('outages', 'SERVICENOW')]\n",
      "Get all open incidents for mail\n",
      "Entities [('incidents', 'SERVICENOW'), ('mail', 'PROPERTY')]\n",
      "Is there any ongoing incident for Mail\n",
      "Entities [('ongoing', 'TIME'), ('incident', 'SERVICENOW'), ('Mail', 'PROPERTY')]\n",
      "Is there a Servicenow incident for Mail\n",
      "Entities [('Servicenow', 'SERVICENOW'), ('incident', 'SERVICENOW'), ('Mail', 'PROPERTY')]\n"
     ]
    }
   ],
   "source": [
    "for text, _ in TRAIN_DATA:\n",
    "    doc = nlp(text)\n",
    "    print(text)\n",
    "    print('Entities', [(ent.text, ent.label_) for ent in doc.ents])"
   ]
  },
  {
   "cell_type": "code",
   "execution_count": 9,
   "metadata": {},
   "outputs": [
    {
     "name": "stdout",
     "output_type": "stream",
     "text": [
      "less than 24 hours TIME\n"
     ]
    }
   ],
   "source": [
    "import spacy\n",
    "nlp = spacy.load('en')\n",
    "#doc = nlp(u'List out the incidents for Mail between yesterday and today')\n",
    "#doc = nlp(u'List the incidents for Mail on 24th December')\n",
    "doc = nlp(u'List incidents in less than 24 hours')\n",
    "for token in doc.ents:\n",
    "    print(token.text, token.label_)"
   ]
  },
  {
   "cell_type": "code",
   "execution_count": 23,
   "metadata": {},
   "outputs": [
    {
     "name": "stdout",
     "output_type": "stream",
     "text": [
      "Servicenow 11 21\n",
      "incident 22 30\n",
      "Mail 35 39\n"
     ]
    }
   ],
   "source": [
    "import re\n",
    "doc = nlp(\"Is there a Servicenow incident for Mail\")\n",
    "list_of_strings = [\"Servicenow\", \"incident\", \"Mail\"]\n",
    "for s in list_of_strings:\n",
    "    res = re.search(s,doc.text)\n",
    "    if res:\n",
    "        print(s , res.start(), res.end())\n"
   ]
  },
  {
   "cell_type": "code",
   "execution_count": null,
   "metadata": {},
   "outputs": [],
   "source": []
  }
 ],
 "metadata": {
  "kernelspec": {
   "display_name": "Python 3",
   "language": "python",
   "name": "python3"
  },
  "language_info": {
   "codemirror_mode": {
    "name": "ipython",
    "version": 3
   },
   "file_extension": ".py",
   "mimetype": "text/x-python",
   "name": "python",
   "nbconvert_exporter": "python",
   "pygments_lexer": "ipython3",
   "version": "3.8.2"
  }
 },
 "nbformat": 4,
 "nbformat_minor": 4
}
