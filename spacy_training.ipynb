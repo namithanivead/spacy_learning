{
 "cells": [
  {
   "cell_type": "code",
   "execution_count": 1,
   "metadata": {},
   "outputs": [
    {
     "data": {
      "text/plain": [
       "'2.3.5'"
      ]
     },
     "execution_count": 1,
     "metadata": {},
     "output_type": "execute_result"
    }
   ],
   "source": [
    "import spacy\n",
    "spacy.__version__"
   ]
  },
  {
   "cell_type": "code",
   "execution_count": 19,
   "metadata": {},
   "outputs": [
    {
     "name": "stdout",
     "output_type": "stream",
     "text": [
      "Is AUX\n",
      "there PRON\n",
      "any DET\n",
      "incident NOUN\n",
      "in ADP\n",
      "Servicenow PROPN\n",
      "for ADP\n",
      "Mail PROPN\n",
      "in ADP\n",
      "less ADJ\n",
      "than SCONJ\n",
      "24 NUM\n",
      "hours NOUN\n"
     ]
    }
   ],
   "source": [
    "nlp = spacy.load('en')\n",
    "doc = nlp(u'Is there any incident in Servicenow for Mail in less than 24 hours')\n",
    "for token in doc:\n",
    "    print(token.text, token.pos_)"
   ]
  },
  {
   "cell_type": "code",
   "execution_count": 6,
   "metadata": {},
   "outputs": [
    {
     "name": "stdout",
     "output_type": "stream",
     "text": [
      "Is be VBZ ROOT True\n",
      "there there EX expl True\n",
      "any any DT det True\n",
      "incident incident NN attr False\n",
      "in in IN prep True\n",
      "Servicenow Servicenow NNP pobj False\n",
      "for for IN prep True\n",
      "Mail Mail NNP pobj False\n"
     ]
    }
   ],
   "source": [
    "for token in doc:\n",
    "    print(token.text,token.lemma_,token.tag_,token.dep_,token.is_stop)"
   ]
  },
  {
   "cell_type": "code",
   "execution_count": 20,
   "metadata": {},
   "outputs": [
    {
     "name": "stdout",
     "output_type": "stream",
     "text": [
      "less than 24 hours TIME\n"
     ]
    }
   ],
   "source": [
    "\n",
    "nlp = spacy.load('en')\n",
    "doc = nlp(u'Is there any  Servicenow Incident for Yahoo Mail in less than 24 hours')\n",
    "#doc = nlp(u'Google has its headquartes in Mountain View, California')\n",
    "for ent in doc.ents:\n",
    "    print(ent.text, ent.label_)"
   ]
  },
  {
   "cell_type": "code",
   "execution_count": 21,
   "metadata": {},
   "outputs": [
    {
     "data": {
      "text/plain": [
       "['tagger', 'parser', 'ner']"
      ]
     },
     "execution_count": 21,
     "metadata": {},
     "output_type": "execute_result"
    }
   ],
   "source": [
    "import spacy\n",
    "nlp=spacy.load('en_core_web_sm')\n",
    "nlp.pipe_names"
   ]
  },
  {
   "cell_type": "code",
   "execution_count": 30,
   "metadata": {},
   "outputs": [
    {
     "ename": "AttributeError",
     "evalue": "'spacy.tokens.token.Token' object has no attribute 'start_char'",
     "output_type": "error",
     "traceback": [
      "\u001b[0;31m---------------------------------------------------------------------------\u001b[0m",
      "\u001b[0;31mAttributeError\u001b[0m                            Traceback (most recent call last)",
      "\u001b[0;32m<ipython-input-30-c70497d6db2e>\u001b[0m in \u001b[0;36m<module>\u001b[0;34m\u001b[0m\n\u001b[1;32m      8\u001b[0m \u001b[0mdoc1\u001b[0m \u001b[0;34m=\u001b[0m \u001b[0mnlp1\u001b[0m\u001b[0;34m(\u001b[0m\u001b[0;34m\"Who is Kofi Annan\"\u001b[0m\u001b[0;34m)\u001b[0m\u001b[0;34m\u001b[0m\u001b[0;34m\u001b[0m\u001b[0m\n\u001b[1;32m      9\u001b[0m \u001b[0;32mfor\u001b[0m \u001b[0ment\u001b[0m \u001b[0;32min\u001b[0m \u001b[0mdoc1\u001b[0m\u001b[0;34m:\u001b[0m\u001b[0;34m\u001b[0m\u001b[0;34m\u001b[0m\u001b[0m\n\u001b[0;32m---> 10\u001b[0;31m     \u001b[0mprint\u001b[0m\u001b[0;34m(\u001b[0m\u001b[0ment\u001b[0m\u001b[0;34m.\u001b[0m\u001b[0mtext\u001b[0m\u001b[0;34m,\u001b[0m \u001b[0ment\u001b[0m\u001b[0;34m.\u001b[0m\u001b[0mstart_char\u001b[0m\u001b[0;34m,\u001b[0m \u001b[0ment\u001b[0m\u001b[0;34m.\u001b[0m\u001b[0mend_char\u001b[0m\u001b[0;34m)\u001b[0m\u001b[0;34m\u001b[0m\u001b[0;34m\u001b[0m\u001b[0m\n\u001b[0m",
      "\u001b[0;31mAttributeError\u001b[0m: 'spacy.tokens.token.Token' object has no attribute 'start_char'"
     ]
    }
   ],
   "source": [
    "from __future__ import unicode_literals, print_function\n",
    "import plac\n",
    "import random\n",
    "from pathlib import Path\n",
    "import spacy\n",
    "from tqdm import tqdm\n",
    "nlp1 = spacy.load('en_core_web_sm')\n",
    "doc1 = nlp1(\"Who is Kofi Annan\")\n",
    "for ent in doc1:\n",
    "    print(ent.text, ent.start_char, ent.end_char)"
   ]
  },
  {
   "cell_type": "code",
   "execution_count": 25,
   "metadata": {},
   "outputs": [
    {
     "name": "stderr",
     "output_type": "stream",
     "text": [
      "/Users/namithav/nlp/lib/python3.8/site-packages/spacy/language.py:635: UserWarning: [W033] Training a new parser or NER using a model with an empty lexeme normalization table. This may degrade the performance to some degree. If this is intentional or this language doesn't have a normalization table, please ignore this warning.\n",
      "  proc.begin_training(\n",
      "/Users/namithav/nlp/lib/python3.8/site-packages/spacy/language.py:635: UserWarning: [W034] Please install the package spacy-lookups-data in order to include the default lexeme normalization table for the language 'en'.\n",
      "  proc.begin_training(\n",
      "  0%|          | 0/3 [00:00<?, ?it/s]/Users/namithav/nlp/lib/python3.8/site-packages/spacy/language.py:482: UserWarning: [W030] Some entities could not be aligned in the text \"Is there a Servicenow incident for Mail\" with entities \"[(11, 22, 'TOOLS'), (22, 30, 'TARGET'), (35, 39, '...\". Use `spacy.gold.biluo_tags_from_offsets(nlp.make_doc(text), entities)` to check the alignment. Misaligned entities (with BILUO tag '-') will be ignored during training.\n",
      "  gold = GoldParse(doc, **gold)\n",
      "100%|██████████| 3/3 [00:00<00:00, 36.93it/s]\n",
      "  0%|          | 0/3 [00:00<?, ?it/s]"
     ]
    },
    {
     "name": "stdout",
     "output_type": "stream",
     "text": [
      "Created blank 'en' model\n",
      "{'ner': 22.46392485499382}\n"
     ]
    },
    {
     "name": "stderr",
     "output_type": "stream",
     "text": [
      "100%|██████████| 3/3 [00:00<00:00, 58.97it/s]\n",
      "100%|██████████| 3/3 [00:00<00:00, 58.49it/s]\n",
      "100%|██████████| 3/3 [00:00<00:00, 54.51it/s]\n",
      "100%|██████████| 3/3 [00:00<00:00, 57.95it/s]\n",
      "  0%|          | 0/3 [00:00<?, ?it/s]"
     ]
    },
    {
     "name": "stdout",
     "output_type": "stream",
     "text": [
      "{'ner': 21.222575034946203}\n",
      "{'ner': 20.282465126365423}\n",
      "{'ner': 17.620221493765712}\n",
      "{'ner': 15.889847967773676}\n"
     ]
    },
    {
     "name": "stderr",
     "output_type": "stream",
     "text": [
      "100%|██████████| 3/3 [00:00<00:00, 57.59it/s]\n",
      "100%|██████████| 3/3 [00:00<00:00, 57.30it/s]\n",
      "100%|██████████| 3/3 [00:00<00:00, 58.00it/s]\n",
      "100%|██████████| 3/3 [00:00<00:00, 57.87it/s]\n",
      "  0%|          | 0/3 [00:00<?, ?it/s]"
     ]
    },
    {
     "name": "stdout",
     "output_type": "stream",
     "text": [
      "{'ner': 13.557214893400669}\n",
      "{'ner': 13.947883680462837}\n",
      "{'ner': 10.873204399249516}\n",
      "{'ner': 11.098420403664932}\n"
     ]
    },
    {
     "name": "stderr",
     "output_type": "stream",
     "text": [
      "100%|██████████| 3/3 [00:00<00:00, 59.55it/s]\n",
      "100%|██████████| 3/3 [00:00<00:00, 58.41it/s]\n",
      "100%|██████████| 3/3 [00:00<00:00, 60.51it/s]\n",
      "100%|██████████| 3/3 [00:00<00:00, 59.13it/s]\n",
      "  0%|          | 0/3 [00:00<?, ?it/s]"
     ]
    },
    {
     "name": "stdout",
     "output_type": "stream",
     "text": [
      "{'ner': 11.851777573800064}\n",
      "{'ner': 11.848685078992276}\n",
      "{'ner': 11.262943357651238}\n",
      "{'ner': 9.036355951335281}\n"
     ]
    },
    {
     "name": "stderr",
     "output_type": "stream",
     "text": [
      "100%|██████████| 3/3 [00:00<00:00, 56.72it/s]\n",
      "100%|██████████| 3/3 [00:00<00:00, 56.50it/s]\n",
      "100%|██████████| 3/3 [00:00<00:00, 56.11it/s]\n",
      "100%|██████████| 3/3 [00:00<00:00, 54.09it/s]\n",
      "  0%|          | 0/3 [00:00<?, ?it/s]"
     ]
    },
    {
     "name": "stdout",
     "output_type": "stream",
     "text": [
      "{'ner': 9.1941673649726}\n",
      "{'ner': 8.823846831452556}\n",
      "{'ner': 9.100741204732913}\n",
      "{'ner': 8.35431597661227}\n"
     ]
    },
    {
     "name": "stderr",
     "output_type": "stream",
     "text": [
      "100%|██████████| 3/3 [00:00<00:00, 54.46it/s]\n",
      "100%|██████████| 3/3 [00:00<00:00, 54.85it/s]\n",
      "100%|██████████| 3/3 [00:00<00:00, 56.37it/s]\n",
      "100%|██████████| 3/3 [00:00<00:00, 58.91it/s]\n",
      "  0%|          | 0/3 [00:00<?, ?it/s]"
     ]
    },
    {
     "name": "stdout",
     "output_type": "stream",
     "text": [
      "{'ner': 7.34150195658261}\n",
      "{'ner': 9.16597501035318}\n",
      "{'ner': 6.7157932681193415}\n",
      "{'ner': 5.733382923433737}\n"
     ]
    },
    {
     "name": "stderr",
     "output_type": "stream",
     "text": [
      "100%|██████████| 3/3 [00:00<00:00, 56.80it/s]\n",
      "100%|██████████| 3/3 [00:00<00:00, 60.38it/s]\n",
      "100%|██████████| 3/3 [00:00<00:00, 48.81it/s]\n",
      "100%|██████████| 3/3 [00:00<00:00, 60.10it/s]\n",
      "  0%|          | 0/3 [00:00<?, ?it/s]"
     ]
    },
    {
     "name": "stdout",
     "output_type": "stream",
     "text": [
      "{'ner': 6.411147167076479}\n",
      "{'ner': 7.105630972508919}\n",
      "{'ner': 7.021787764358012}\n",
      "{'ner': 4.771844772063791}\n"
     ]
    },
    {
     "name": "stderr",
     "output_type": "stream",
     "text": [
      "100%|██████████| 3/3 [00:00<00:00, 57.31it/s]\n",
      "100%|██████████| 3/3 [00:00<00:00, 60.70it/s]\n",
      "100%|██████████| 3/3 [00:00<00:00, 55.56it/s]\n",
      "100%|██████████| 3/3 [00:00<00:00, 53.20it/s]\n",
      "  0%|          | 0/3 [00:00<?, ?it/s]"
     ]
    },
    {
     "name": "stdout",
     "output_type": "stream",
     "text": [
      "{'ner': 4.743394405278195}\n",
      "{'ner': 4.633889242675748}\n",
      "{'ner': 4.344569652898498}\n",
      "{'ner': 2.0454451920543626}\n"
     ]
    },
    {
     "name": "stderr",
     "output_type": "stream",
     "text": [
      "100%|██████████| 3/3 [00:00<00:00, 54.45it/s]\n",
      "100%|██████████| 3/3 [00:00<00:00, 57.63it/s]\n",
      "100%|██████████| 3/3 [00:00<00:00, 59.05it/s]\n",
      "100%|██████████| 3/3 [00:00<00:00, 56.97it/s]\n",
      "  0%|          | 0/3 [00:00<?, ?it/s]"
     ]
    },
    {
     "name": "stdout",
     "output_type": "stream",
     "text": [
      "{'ner': 2.571028380548396}\n",
      "{'ner': 3.4612807718407486}\n",
      "{'ner': 3.382250974443329}\n",
      "{'ner': 3.2007962293398666}\n"
     ]
    },
    {
     "name": "stderr",
     "output_type": "stream",
     "text": [
      "100%|██████████| 3/3 [00:00<00:00, 57.24it/s]\n",
      "100%|██████████| 3/3 [00:00<00:00, 55.18it/s]\n",
      "100%|██████████| 3/3 [00:00<00:00, 61.38it/s]\n",
      "100%|██████████| 3/3 [00:00<00:00, 59.67it/s]\n",
      "  0%|          | 0/3 [00:00<?, ?it/s]"
     ]
    },
    {
     "name": "stdout",
     "output_type": "stream",
     "text": [
      "{'ner': 1.2918359879589818}\n",
      "{'ner': 3.653132245172464}\n",
      "{'ner': 0.9090722610078025}\n",
      "{'ner': 1.4255425089226652}\n"
     ]
    },
    {
     "name": "stderr",
     "output_type": "stream",
     "text": [
      "100%|██████████| 3/3 [00:00<00:00, 60.56it/s]\n",
      "100%|██████████| 3/3 [00:00<00:00, 58.14it/s]\n",
      "100%|██████████| 3/3 [00:00<00:00, 61.38it/s]\n",
      "100%|██████████| 3/3 [00:00<00:00, 69.44it/s]\n",
      "100%|██████████| 3/3 [00:00<00:00, 73.18it/s]\n",
      "  0%|          | 0/3 [00:00<?, ?it/s]"
     ]
    },
    {
     "name": "stdout",
     "output_type": "stream",
     "text": [
      "{'ner': 1.489488290326134}\n",
      "{'ner': 0.35234976648051625}\n",
      "{'ner': 0.8148498062703393}\n",
      "{'ner': 0.4410107917277284}\n",
      "{'ner': 0.11335569083751236}\n"
     ]
    },
    {
     "name": "stderr",
     "output_type": "stream",
     "text": [
      "100%|██████████| 3/3 [00:00<00:00, 71.37it/s]\n",
      "100%|██████████| 3/3 [00:00<00:00, 72.09it/s]\n",
      "100%|██████████| 3/3 [00:00<00:00, 73.25it/s]\n",
      "100%|██████████| 3/3 [00:00<00:00, 73.66it/s]\n",
      "100%|██████████| 3/3 [00:00<00:00, 72.99it/s]\n",
      "  0%|          | 0/3 [00:00<?, ?it/s]"
     ]
    },
    {
     "name": "stdout",
     "output_type": "stream",
     "text": [
      "{'ner': 0.026339761711479604}\n",
      "{'ner': 0.8891451300896323}\n",
      "{'ner': 0.0780461662687061}\n",
      "{'ner': 0.72142914302355}\n",
      "{'ner': 0.011384822840478474}\n"
     ]
    },
    {
     "name": "stderr",
     "output_type": "stream",
     "text": [
      "100%|██████████| 3/3 [00:00<00:00, 73.13it/s]\n",
      "100%|██████████| 3/3 [00:00<00:00, 66.29it/s]\n",
      "100%|██████████| 3/3 [00:00<00:00, 72.14it/s]\n",
      "100%|██████████| 3/3 [00:00<00:00, 75.91it/s]\n",
      "100%|██████████| 3/3 [00:00<00:00, 74.69it/s]\n",
      "  0%|          | 0/3 [00:00<?, ?it/s]"
     ]
    },
    {
     "name": "stdout",
     "output_type": "stream",
     "text": [
      "{'ner': 0.0026570388516673647}\n",
      "{'ner': 0.35648151310916526}\n",
      "{'ner': 0.1282950024806979}\n",
      "{'ner': 0.0001814128591373856}\n",
      "{'ner': 0.004589254914507359}\n"
     ]
    },
    {
     "name": "stderr",
     "output_type": "stream",
     "text": [
      "100%|██████████| 3/3 [00:00<00:00, 71.23it/s]\n",
      "100%|██████████| 3/3 [00:00<00:00, 73.56it/s]\n",
      "100%|██████████| 3/3 [00:00<00:00, 75.38it/s]\n",
      "100%|██████████| 3/3 [00:00<00:00, 73.61it/s]\n",
      "100%|██████████| 3/3 [00:00<00:00, 63.73it/s]\n",
      "  0%|          | 0/3 [00:00<?, ?it/s]"
     ]
    },
    {
     "name": "stdout",
     "output_type": "stream",
     "text": [
      "{'ner': 0.0004873316277419207}\n",
      "{'ner': 0.013908063898888443}\n",
      "{'ner': 0.03210657162386931}\n",
      "{'ner': 0.011060499360989563}\n",
      "{'ner': 4.6801687892426725e-07}\n"
     ]
    },
    {
     "name": "stderr",
     "output_type": "stream",
     "text": [
      "100%|██████████| 3/3 [00:00<00:00, 71.47it/s]\n",
      "100%|██████████| 3/3 [00:00<00:00, 71.96it/s]\n",
      "100%|██████████| 3/3 [00:00<00:00, 72.76it/s]\n",
      "100%|██████████| 3/3 [00:00<00:00, 74.05it/s]\n",
      "100%|██████████| 3/3 [00:00<00:00, 75.51it/s]\n",
      "  0%|          | 0/3 [00:00<?, ?it/s]"
     ]
    },
    {
     "name": "stdout",
     "output_type": "stream",
     "text": [
      "{'ner': 2.2455021232121856e-05}\n",
      "{'ner': 0.10796360852848881}\n",
      "{'ner': 0.010085966658417427}\n",
      "{'ner': 0.000147506364821401}\n",
      "{'ner': 0.012977634255415527}\n"
     ]
    },
    {
     "name": "stderr",
     "output_type": "stream",
     "text": [
      "100%|██████████| 3/3 [00:00<00:00, 73.50it/s]\n",
      "100%|██████████| 3/3 [00:00<00:00, 73.46it/s]\n",
      "100%|██████████| 3/3 [00:00<00:00, 68.51it/s]\n",
      "100%|██████████| 3/3 [00:00<00:00, 66.35it/s]\n",
      "100%|██████████| 3/3 [00:00<00:00, 64.23it/s]\n",
      "  0%|          | 0/3 [00:00<?, ?it/s]"
     ]
    },
    {
     "name": "stdout",
     "output_type": "stream",
     "text": [
      "{'ner': 3.381196496403797e-05}\n",
      "{'ner': 0.02602576856963301}\n",
      "{'ner': 0.0019297726850185785}\n",
      "{'ner': 1.9227508795207714e-05}\n",
      "{'ner': 1.5453061536479972e-05}\n"
     ]
    },
    {
     "name": "stderr",
     "output_type": "stream",
     "text": [
      "100%|██████████| 3/3 [00:00<00:00, 64.39it/s]\n",
      "100%|██████████| 3/3 [00:00<00:00, 71.27it/s]\n",
      "100%|██████████| 3/3 [00:00<00:00, 74.39it/s]\n",
      "100%|██████████| 3/3 [00:00<00:00, 73.61it/s]\n",
      "100%|██████████| 3/3 [00:00<00:00, 74.01it/s]\n",
      "  0%|          | 0/3 [00:00<?, ?it/s]"
     ]
    },
    {
     "name": "stdout",
     "output_type": "stream",
     "text": [
      "{'ner': 0.00021078575430548828}\n",
      "{'ner': 0.00015912992089630004}\n",
      "{'ner': 1.6671711111902155e-05}\n",
      "{'ner': 2.0550883906015055e-07}\n",
      "{'ner': 5.327926679855702e-06}\n"
     ]
    },
    {
     "name": "stderr",
     "output_type": "stream",
     "text": [
      "100%|██████████| 3/3 [00:00<00:00, 75.12it/s]\n",
      "100%|██████████| 3/3 [00:00<00:00, 73.36it/s]\n",
      "100%|██████████| 3/3 [00:00<00:00, 75.55it/s]\n",
      "100%|██████████| 3/3 [00:00<00:00, 73.36it/s]\n",
      "100%|██████████| 3/3 [00:00<00:00, 72.23it/s]\n",
      "  0%|          | 0/3 [00:00<?, ?it/s]"
     ]
    },
    {
     "name": "stdout",
     "output_type": "stream",
     "text": [
      "{'ner': 2.115629868427903e-05}\n",
      "{'ner': 2.707805832577214e-05}\n",
      "{'ner': 3.563826116463557e-06}\n",
      "{'ner': 5.787247000525261e-08}\n",
      "{'ner': 2.443602933057632e-05}\n"
     ]
    },
    {
     "name": "stderr",
     "output_type": "stream",
     "text": [
      "100%|██████████| 3/3 [00:00<00:00, 74.14it/s]\n",
      "100%|██████████| 3/3 [00:00<00:00, 70.70it/s]\n",
      "100%|██████████| 3/3 [00:00<00:00, 72.68it/s]\n",
      "100%|██████████| 3/3 [00:00<00:00, 72.49it/s]\n",
      "100%|██████████| 3/3 [00:00<00:00, 72.55it/s]\n",
      "  0%|          | 0/3 [00:00<?, ?it/s]"
     ]
    },
    {
     "name": "stdout",
     "output_type": "stream",
     "text": [
      "{'ner': 4.954176036533217e-06}\n",
      "{'ner': 0.0060560842597711766}\n",
      "{'ner': 2.9489737840147234e-06}\n",
      "{'ner': 0.0007031761187341665}\n",
      "{'ner': 2.0229941533570094e-06}\n"
     ]
    },
    {
     "name": "stderr",
     "output_type": "stream",
     "text": [
      "100%|██████████| 3/3 [00:00<00:00, 71.99it/s]\n",
      "100%|██████████| 3/3 [00:00<00:00, 73.09it/s]\n",
      "100%|██████████| 3/3 [00:00<00:00, 72.98it/s]\n",
      "100%|██████████| 3/3 [00:00<00:00, 71.16it/s]\n",
      "100%|██████████| 3/3 [00:00<00:00, 72.25it/s]\n",
      "  0%|          | 0/3 [00:00<?, ?it/s]"
     ]
    },
    {
     "name": "stdout",
     "output_type": "stream",
     "text": [
      "{'ner': 1.365864635871878}\n",
      "{'ner': 0.00014672671932699182}\n",
      "{'ner': 7.241767234514773e-05}\n",
      "{'ner': 3.848133906921362e-05}\n",
      "{'ner': 3.85285291812338e-07}\n"
     ]
    },
    {
     "name": "stderr",
     "output_type": "stream",
     "text": [
      "100%|██████████| 3/3 [00:00<00:00, 70.87it/s]\n",
      "100%|██████████| 3/3 [00:00<00:00, 73.63it/s]\n",
      "100%|██████████| 3/3 [00:00<00:00, 73.74it/s]\n",
      "100%|██████████| 3/3 [00:00<00:00, 73.15it/s]\n",
      "100%|██████████| 3/3 [00:00<00:00, 71.79it/s]\n",
      "  0%|          | 0/3 [00:00<?, ?it/s]"
     ]
    },
    {
     "name": "stdout",
     "output_type": "stream",
     "text": [
      "{'ner': 0.00027427287660146773}\n",
      "{'ner': 3.394411577134721e-06}\n",
      "{'ner': 3.6880229242608114e-06}\n",
      "{'ner': 8.026687327050761e-07}\n",
      "{'ner': 1.074395454859276e-06}\n"
     ]
    },
    {
     "name": "stderr",
     "output_type": "stream",
     "text": [
      "100%|██████████| 3/3 [00:00<00:00, 71.58it/s]\n",
      "100%|██████████| 3/3 [00:00<00:00, 73.66it/s]\n",
      "100%|██████████| 3/3 [00:00<00:00, 73.54it/s]\n",
      "100%|██████████| 3/3 [00:00<00:00, 75.30it/s]\n",
      "100%|██████████| 3/3 [00:00<00:00, 72.88it/s]\n",
      "  0%|          | 0/3 [00:00<?, ?it/s]"
     ]
    },
    {
     "name": "stdout",
     "output_type": "stream",
     "text": [
      "{'ner': 7.542960808336187e-07}\n",
      "{'ner': 7.653767798180285e-07}\n",
      "{'ner': 3.881303055453938e-06}\n",
      "{'ner': 3.3229020629507564e-06}\n",
      "{'ner': 0.0058896398278941615}\n"
     ]
    },
    {
     "name": "stderr",
     "output_type": "stream",
     "text": [
      "100%|██████████| 3/3 [00:00<00:00, 74.57it/s]\n",
      "100%|██████████| 3/3 [00:00<00:00, 72.59it/s]\n",
      "100%|██████████| 3/3 [00:00<00:00, 72.98it/s]\n"
     ]
    },
    {
     "name": "stdout",
     "output_type": "stream",
     "text": [
      "{'ner': 0.000458310703541143}\n",
      "{'ner': 0.0005865620739931744}\n",
      "{'ner': 0.0011797069800314466}\n",
      "Entities [('incident', 'TARGET'), ('Mail', 'PROPERTY')]\n",
      "Entities [('yamas', 'TOOLS'), ('graph', 'TOOLS'), ('alert', 'ALERT')]\n",
      "Entities [('incident', 'TARGET'), ('Mail', 'PROPERTY')]\n"
     ]
    }
   ],
   "source": [
    "from __future__ import unicode_literals, print_function\n",
    "import plac\n",
    "import random\n",
    "from pathlib import Path\n",
    "import spacy\n",
    "from tqdm import tqdm\n",
    "\n",
    "# training data\n",
    "TRAIN_DATA = [\n",
    "              (\"Is there a Servicenow incident for Mail\", {\"entities\": [(11, 22, \"TOOLS\"), (22,30, \"TARGET\"),(35,39, \"PROPERTY\")]}),\n",
    "              (\"Get all the incident that impacted Mail between yesterday and today\", {\"entities\": [(12,20, \"TARGET\"),(35,39, \"PROPERTY\")]}),\n",
    "              (\"Please ping the yamas graph for alert\", {\"entities\": [(16, 21, \"TOOLS\"),(22,27, \"TOOLS\"),(32,37, \"ALERT\")]})\n",
    "            ]\n",
    "\n",
    "model = None\n",
    "output_dir=Path(\"/Users/namithav/demo_chatbot/ner\")\n",
    "n_iter=100\n",
    "\n",
    "#load the model\n",
    "\n",
    "if model is not None:\n",
    "    nlp = spacy.load(model)\n",
    "    print(\"Loaded model '%s'\" % model)\n",
    "else:\n",
    "    nlp = spacy.blank('en')\n",
    "    print(\"Created blank 'en' model\")\n",
    "\n",
    "#set up the pipeline\n",
    "\n",
    "if 'ner' not in nlp.pipe_names:\n",
    "    ner = nlp.create_pipe('ner')\n",
    "    nlp.add_pipe(ner, last=True)\n",
    "else:\n",
    "    ner = nlp.get_pipe('ner')\n",
    "\n",
    "for _, annotations in TRAIN_DATA:\n",
    "    for ent in annotations.get('entities'):\n",
    "        ner.add_label(ent[2])\n",
    "\n",
    "other_pipes = [pipe for pipe in nlp.pipe_names if pipe != 'ner']\n",
    "with nlp.disable_pipes(*other_pipes):  # only train NER\n",
    "    optimizer = nlp.begin_training()\n",
    "    for itn in range(n_iter):\n",
    "        random.shuffle(TRAIN_DATA)\n",
    "        losses = {}\n",
    "        for text, annotations in tqdm(TRAIN_DATA):\n",
    "            nlp.update(\n",
    "                [text],\n",
    "                [annotations],\n",
    "                drop=0.5,\n",
    "                sgd=optimizer,\n",
    "                losses=losses)\n",
    "        print(losses)\n",
    "for text, _ in TRAIN_DATA:\n",
    "    doc = nlp(text)\n",
    "    print('Entities', [(ent.text, ent.label_) for ent in doc.ents])"
   ]
  },
  {
   "cell_type": "code",
   "execution_count": 28,
   "metadata": {},
   "outputs": [
    {
     "name": "stderr",
     "output_type": "stream",
     "text": [
      "100%|██████████| 3/3 [00:00<00:00, 47.32it/s]\n",
      "100%|██████████| 3/3 [00:00<00:00, 63.95it/s]\n",
      "  0%|          | 0/3 [00:00<?, ?it/s]"
     ]
    },
    {
     "name": "stdout",
     "output_type": "stream",
     "text": [
      "Created blank 'en' model\n",
      "{'ner': 22.432317163795233}\n",
      "{'ner': 21.47897555679083}\n"
     ]
    },
    {
     "name": "stderr",
     "output_type": "stream",
     "text": [
      "100%|██████████| 3/3 [00:00<00:00, 60.52it/s]\n",
      "100%|██████████| 3/3 [00:00<00:00, 56.21it/s]\n",
      "100%|██████████| 3/3 [00:00<00:00, 57.48it/s]\n",
      "100%|██████████| 3/3 [00:00<00:00, 57.95it/s]\n",
      "  0%|          | 0/3 [00:00<?, ?it/s]"
     ]
    },
    {
     "name": "stdout",
     "output_type": "stream",
     "text": [
      "{'ner': 20.271824315190315}\n",
      "{'ner': 18.11415581777692}\n",
      "{'ner': 15.163334986194968}\n",
      "{'ner': 12.899653537198901}\n"
     ]
    },
    {
     "name": "stderr",
     "output_type": "stream",
     "text": [
      "100%|██████████| 3/3 [00:00<00:00, 56.28it/s]\n",
      "100%|██████████| 3/3 [00:00<00:00, 58.25it/s]\n",
      "100%|██████████| 3/3 [00:00<00:00, 55.22it/s]\n",
      "100%|██████████| 3/3 [00:00<00:00, 57.81it/s]\n",
      "  0%|          | 0/3 [00:00<?, ?it/s]"
     ]
    },
    {
     "name": "stdout",
     "output_type": "stream",
     "text": [
      "{'ner': 11.300516224349849}\n",
      "{'ner': 12.18750033195829}\n",
      "{'ner': 11.693907068256522}\n",
      "{'ner': 11.426397374249063}\n"
     ]
    },
    {
     "name": "stderr",
     "output_type": "stream",
     "text": [
      "100%|██████████| 3/3 [00:00<00:00, 56.43it/s]\n",
      "100%|██████████| 3/3 [00:00<00:00, 55.23it/s]\n",
      "100%|██████████| 3/3 [00:00<00:00, 55.67it/s]\n",
      "100%|██████████| 3/3 [00:00<00:00, 56.77it/s]\n",
      "  0%|          | 0/3 [00:00<?, ?it/s]"
     ]
    },
    {
     "name": "stdout",
     "output_type": "stream",
     "text": [
      "{'ner': 10.887668221657805}\n",
      "{'ner': 11.567092193756253}\n",
      "{'ner': 10.350968944258057}\n",
      "{'ner': 10.736687823689294}\n"
     ]
    },
    {
     "name": "stderr",
     "output_type": "stream",
     "text": [
      "100%|██████████| 3/3 [00:00<00:00, 55.40it/s]\n",
      "100%|██████████| 3/3 [00:00<00:00, 52.71it/s]\n",
      "100%|██████████| 3/3 [00:00<00:00, 56.34it/s]\n",
      "100%|██████████| 3/3 [00:00<00:00, 55.81it/s]\n",
      "  0%|          | 0/3 [00:00<?, ?it/s]"
     ]
    },
    {
     "name": "stdout",
     "output_type": "stream",
     "text": [
      "{'ner': 9.328086148016155}\n",
      "{'ner': 9.00702220160747}\n",
      "{'ner': 8.69063028646633}\n",
      "{'ner': 9.56560621256358}\n"
     ]
    },
    {
     "name": "stderr",
     "output_type": "stream",
     "text": [
      "100%|██████████| 3/3 [00:00<00:00, 53.76it/s]\n",
      "100%|██████████| 3/3 [00:00<00:00, 53.12it/s]\n",
      "100%|██████████| 3/3 [00:00<00:00, 47.47it/s]\n",
      "100%|██████████| 3/3 [00:00<00:00, 52.96it/s]\n",
      "  0%|          | 0/3 [00:00<?, ?it/s]"
     ]
    },
    {
     "name": "stdout",
     "output_type": "stream",
     "text": [
      "{'ner': 7.992187466120583}\n",
      "{'ner': 8.213691399762695}\n",
      "{'ner': 8.49075288627067}\n",
      "{'ner': 7.198567940737121}\n"
     ]
    },
    {
     "name": "stderr",
     "output_type": "stream",
     "text": [
      "100%|██████████| 3/3 [00:00<00:00, 56.41it/s]\n",
      "100%|██████████| 3/3 [00:00<00:00, 57.04it/s]\n",
      "100%|██████████| 3/3 [00:00<00:00, 56.83it/s]\n",
      "100%|██████████| 3/3 [00:00<00:00, 54.68it/s]\n",
      "  0%|          | 0/3 [00:00<?, ?it/s]"
     ]
    },
    {
     "name": "stdout",
     "output_type": "stream",
     "text": [
      "{'ner': 6.576815405302682}\n",
      "{'ner': 6.777891880606418}\n",
      "{'ner': 6.442324514927686}\n",
      "{'ner': 6.054069235297305}\n"
     ]
    },
    {
     "name": "stderr",
     "output_type": "stream",
     "text": [
      "100%|██████████| 3/3 [00:00<00:00, 53.98it/s]\n",
      "100%|██████████| 3/3 [00:00<00:00, 60.05it/s]\n",
      "100%|██████████| 3/3 [00:00<00:00, 62.89it/s]\n",
      "100%|██████████| 3/3 [00:00<00:00, 59.60it/s]\n",
      "  0%|          | 0/3 [00:00<?, ?it/s]"
     ]
    },
    {
     "name": "stdout",
     "output_type": "stream",
     "text": [
      "{'ner': 4.8490276488091695}\n",
      "{'ner': 3.646776817789629}\n",
      "{'ner': 5.259076726145322}\n",
      "{'ner': 3.4486998317306687}\n"
     ]
    },
    {
     "name": "stderr",
     "output_type": "stream",
     "text": [
      "100%|██████████| 3/3 [00:00<00:00, 57.54it/s]\n",
      "100%|██████████| 3/3 [00:00<00:00, 57.43it/s]\n",
      "100%|██████████| 3/3 [00:00<00:00, 56.04it/s]\n",
      "100%|██████████| 3/3 [00:00<00:00, 54.84it/s]\n",
      "  0%|          | 0/3 [00:00<?, ?it/s]"
     ]
    },
    {
     "name": "stdout",
     "output_type": "stream",
     "text": [
      "{'ner': 3.4733894989185217}\n",
      "{'ner': 4.631585032482593}\n",
      "{'ner': 3.5547580459013854}\n",
      "{'ner': 3.3345283189691184}\n"
     ]
    },
    {
     "name": "stderr",
     "output_type": "stream",
     "text": [
      "100%|██████████| 3/3 [00:00<00:00, 55.45it/s]\n",
      "100%|██████████| 3/3 [00:00<00:00, 59.12it/s]\n",
      "100%|██████████| 3/3 [00:00<00:00, 58.92it/s]\n",
      "100%|██████████| 3/3 [00:00<00:00, 56.62it/s]\n",
      "  0%|          | 0/3 [00:00<?, ?it/s]"
     ]
    },
    {
     "name": "stdout",
     "output_type": "stream",
     "text": [
      "{'ner': 3.9268992951799016}\n",
      "{'ner': 3.624953912732877}\n",
      "{'ner': 3.3271364037131597}\n",
      "{'ner': 2.8370966004608267}\n"
     ]
    },
    {
     "name": "stderr",
     "output_type": "stream",
     "text": [
      "100%|██████████| 3/3 [00:00<00:00, 45.19it/s]\n",
      "100%|██████████| 3/3 [00:00<00:00, 56.59it/s]\n",
      "100%|██████████| 3/3 [00:00<00:00, 59.83it/s]\n",
      "100%|██████████| 3/3 [00:00<00:00, 56.94it/s]\n",
      "  0%|          | 0/3 [00:00<?, ?it/s]"
     ]
    },
    {
     "name": "stdout",
     "output_type": "stream",
     "text": [
      "{'ner': 2.5071567959324788}\n",
      "{'ner': 1.8304033406031406}\n",
      "{'ner': 1.9010115484894163}\n",
      "{'ner': 1.3044106742587922}\n"
     ]
    },
    {
     "name": "stderr",
     "output_type": "stream",
     "text": [
      "100%|██████████| 3/3 [00:00<00:00, 57.82it/s]\n",
      "100%|██████████| 3/3 [00:00<00:00, 52.89it/s]\n",
      "100%|██████████| 3/3 [00:00<00:00, 53.94it/s]\n",
      "100%|██████████| 3/3 [00:00<00:00, 61.29it/s]\n",
      "  0%|          | 0/3 [00:00<?, ?it/s]"
     ]
    },
    {
     "name": "stdout",
     "output_type": "stream",
     "text": [
      "{'ner': 0.3938201018779051}\n",
      "{'ner': 1.3136037321926561}\n",
      "{'ner': 1.6243076370731604}\n",
      "{'ner': 0.25095763669968196}\n"
     ]
    },
    {
     "name": "stderr",
     "output_type": "stream",
     "text": [
      "100%|██████████| 3/3 [00:00<00:00, 63.07it/s]\n",
      "100%|██████████| 3/3 [00:00<00:00, 70.59it/s]\n",
      "100%|██████████| 3/3 [00:00<00:00, 73.84it/s]\n",
      "100%|██████████| 3/3 [00:00<00:00, 72.79it/s]\n",
      "100%|██████████| 3/3 [00:00<00:00, 72.76it/s]\n",
      "  0%|          | 0/3 [00:00<?, ?it/s]"
     ]
    },
    {
     "name": "stdout",
     "output_type": "stream",
     "text": [
      "{'ner': 1.1722775296873669}\n",
      "{'ner': 0.4619505407224347}\n",
      "{'ner': 1.8784587329284388}\n",
      "{'ner': 0.2602088825081123}\n",
      "{'ner': 1.868376174495774}\n"
     ]
    },
    {
     "name": "stderr",
     "output_type": "stream",
     "text": [
      "100%|██████████| 3/3 [00:00<00:00, 72.53it/s]\n",
      "100%|██████████| 3/3 [00:00<00:00, 69.93it/s]\n",
      "100%|██████████| 3/3 [00:00<00:00, 69.98it/s]\n",
      "100%|██████████| 3/3 [00:00<00:00, 73.98it/s]\n",
      "100%|██████████| 3/3 [00:00<00:00, 73.76it/s]\n",
      "  0%|          | 0/3 [00:00<?, ?it/s]"
     ]
    },
    {
     "name": "stdout",
     "output_type": "stream",
     "text": [
      "{'ner': 1.2452084821047866}\n",
      "{'ner': 0.08943684419146401}\n",
      "{'ner': 0.0723937601098986}\n",
      "{'ner': 0.0251768149908874}\n",
      "{'ner': 0.2484465007823747}\n"
     ]
    },
    {
     "name": "stderr",
     "output_type": "stream",
     "text": [
      "100%|██████████| 3/3 [00:00<00:00, 73.70it/s]\n",
      "100%|██████████| 3/3 [00:00<00:00, 71.68it/s]\n",
      "100%|██████████| 3/3 [00:00<00:00, 74.24it/s]\n",
      "100%|██████████| 3/3 [00:00<00:00, 74.43it/s]\n",
      "100%|██████████| 3/3 [00:00<00:00, 74.86it/s]\n",
      "  0%|          | 0/3 [00:00<?, ?it/s]"
     ]
    },
    {
     "name": "stdout",
     "output_type": "stream",
     "text": [
      "{'ner': 0.00272145244452854}\n",
      "{'ner': 0.6907341479428456}\n",
      "{'ner': 0.1648697026323134}\n",
      "{'ner': 0.07677255820556489}\n",
      "{'ner': 0.04990934426964305}\n"
     ]
    },
    {
     "name": "stderr",
     "output_type": "stream",
     "text": [
      "100%|██████████| 3/3 [00:00<00:00, 74.12it/s]\n",
      "100%|██████████| 3/3 [00:00<00:00, 73.44it/s]\n",
      "100%|██████████| 3/3 [00:00<00:00, 74.15it/s]\n",
      "100%|██████████| 3/3 [00:00<00:00, 75.63it/s]\n",
      "100%|██████████| 3/3 [00:00<00:00, 67.81it/s]\n",
      "  0%|          | 0/3 [00:00<?, ?it/s]"
     ]
    },
    {
     "name": "stdout",
     "output_type": "stream",
     "text": [
      "{'ner': 0.630371200190373}\n",
      "{'ner': 0.005702393299052946}\n",
      "{'ner': 0.0006223379029379802}\n",
      "{'ner': 0.06330886850266601}\n",
      "{'ner': 1.500145088902617e-06}\n"
     ]
    },
    {
     "name": "stderr",
     "output_type": "stream",
     "text": [
      "100%|██████████| 3/3 [00:00<00:00, 59.91it/s]\n",
      "100%|██████████| 3/3 [00:00<00:00, 57.69it/s]\n",
      "100%|██████████| 3/3 [00:00<00:00, 62.22it/s]\n",
      "100%|██████████| 3/3 [00:00<00:00, 76.54it/s]\n",
      "100%|██████████| 3/3 [00:00<00:00, 74.23it/s]\n",
      "  0%|          | 0/3 [00:00<?, ?it/s]"
     ]
    },
    {
     "name": "stdout",
     "output_type": "stream",
     "text": [
      "{'ner': 0.02286634626505741}\n",
      "{'ner': 0.0076367446135586735}\n",
      "{'ner': 0.14917872419925265}\n",
      "{'ner': 8.330357841042418e-07}\n",
      "{'ner': 7.091716989684095e-07}\n"
     ]
    },
    {
     "name": "stderr",
     "output_type": "stream",
     "text": [
      "100%|██████████| 3/3 [00:00<00:00, 75.36it/s]\n",
      "100%|██████████| 3/3 [00:00<00:00, 74.90it/s]\n",
      "100%|██████████| 3/3 [00:00<00:00, 76.15it/s]\n",
      "100%|██████████| 3/3 [00:00<00:00, 72.24it/s]\n",
      "100%|██████████| 3/3 [00:00<00:00, 73.65it/s]\n",
      "  0%|          | 0/3 [00:00<?, ?it/s]"
     ]
    },
    {
     "name": "stdout",
     "output_type": "stream",
     "text": [
      "{'ner': 0.0001984094783706446}\n",
      "{'ner': 0.008371382180661356}\n",
      "{'ner': 1.557724954693571e-05}\n",
      "{'ner': 1.9441266509868826e-05}\n",
      "{'ner': 0.0007922290619666641}\n"
     ]
    },
    {
     "name": "stderr",
     "output_type": "stream",
     "text": [
      "100%|██████████| 3/3 [00:00<00:00, 70.44it/s]\n",
      "100%|██████████| 3/3 [00:00<00:00, 72.80it/s]\n",
      "100%|██████████| 3/3 [00:00<00:00, 70.08it/s]\n",
      "100%|██████████| 3/3 [00:00<00:00, 62.39it/s]\n",
      "100%|██████████| 3/3 [00:00<00:00, 63.40it/s]\n",
      "  0%|          | 0/3 [00:00<?, ?it/s]"
     ]
    },
    {
     "name": "stdout",
     "output_type": "stream",
     "text": [
      "{'ner': 4.3383126058915796e-05}\n",
      "{'ner': 3.332415524999794e-05}\n",
      "{'ner': 0.0010907468505072255}\n",
      "{'ner': 1.0495656487671086e-06}\n",
      "{'ner': 5.002902736926479e-06}\n"
     ]
    },
    {
     "name": "stderr",
     "output_type": "stream",
     "text": [
      "100%|██████████| 3/3 [00:00<00:00, 64.36it/s]\n",
      "100%|██████████| 3/3 [00:00<00:00, 74.32it/s]\n",
      "100%|██████████| 3/3 [00:00<00:00, 73.88it/s]\n",
      "100%|██████████| 3/3 [00:00<00:00, 73.22it/s]\n",
      "100%|██████████| 3/3 [00:00<00:00, 74.08it/s]\n",
      "  0%|          | 0/3 [00:00<?, ?it/s]"
     ]
    },
    {
     "name": "stdout",
     "output_type": "stream",
     "text": [
      "{'ner': 0.004529395279034879}\n",
      "{'ner': 5.066215005011273e-06}\n",
      "{'ner': 9.335769877394953e-07}\n",
      "{'ner': 0.10067008862372367}\n",
      "{'ner': 2.5913332484372164e-07}\n"
     ]
    },
    {
     "name": "stderr",
     "output_type": "stream",
     "text": [
      "100%|██████████| 3/3 [00:00<00:00, 72.27it/s]\n",
      "100%|██████████| 3/3 [00:00<00:00, 76.91it/s]\n",
      "100%|██████████| 3/3 [00:00<00:00, 83.07it/s]\n",
      "100%|██████████| 3/3 [00:00<00:00, 85.04it/s]\n",
      "100%|██████████| 3/3 [00:00<00:00, 83.91it/s]\n",
      "100%|██████████| 3/3 [00:00<00:00, 87.11it/s]\n",
      "  0%|          | 0/3 [00:00<?, ?it/s]"
     ]
    },
    {
     "name": "stdout",
     "output_type": "stream",
     "text": [
      "{'ner': 1.5692423703518358e-05}\n",
      "{'ner': 0.0008023657917904598}\n",
      "{'ner': 0.00014464516651117556}\n",
      "{'ner': 4.519246231323548e-07}\n",
      "{'ner': 1.2894138622802382e-07}\n",
      "{'ner': 7.759653093786757e-06}\n"
     ]
    },
    {
     "name": "stderr",
     "output_type": "stream",
     "text": [
      "100%|██████████| 3/3 [00:00<00:00, 72.66it/s]\n",
      "100%|██████████| 3/3 [00:00<00:00, 68.73it/s]\n",
      "100%|██████████| 3/3 [00:00<00:00, 70.02it/s]\n",
      "100%|██████████| 3/3 [00:00<00:00, 74.36it/s]\n",
      "100%|██████████| 3/3 [00:00<00:00, 69.34it/s]\n",
      "  0%|          | 0/3 [00:00<?, ?it/s]"
     ]
    },
    {
     "name": "stdout",
     "output_type": "stream",
     "text": [
      "{'ner': 2.4032723158039537e-06}\n",
      "{'ner': 2.2753840250187166e-07}\n",
      "{'ner': 1.10525095153465e-07}\n",
      "{'ner': 7.492044505447206e-07}\n",
      "{'ner': 1.5261869512774315e-06}\n"
     ]
    },
    {
     "name": "stderr",
     "output_type": "stream",
     "text": [
      "100%|██████████| 3/3 [00:00<00:00, 73.60it/s]\n",
      "100%|██████████| 3/3 [00:00<00:00, 67.92it/s]\n",
      "100%|██████████| 3/3 [00:00<00:00, 72.07it/s]"
     ]
    },
    {
     "name": "stdout",
     "output_type": "stream",
     "text": [
      "{'ner': 0.029081361226811944}\n",
      "{'ner': 0.003973912406901353}\n",
      "{'ner': 4.3642839700154886e-07}\n",
      "Entities [('yamas', 'TOOLS'), ('graph', 'TOOLS'), ('alert', 'ALERT')]\n",
      "Entities [('incident', 'TARGET'), ('Mail', 'PROPERTY')]\n",
      "Entities [('incident', 'TARGET'), ('Mail', 'PROPERTY')]\n"
     ]
    },
    {
     "name": "stderr",
     "output_type": "stream",
     "text": [
      "\n"
     ]
    }
   ],
   "source": [
    "from __future__ import unicode_literals, print_function\n",
    "import plac\n",
    "import random\n",
    "from pathlib import Path\n",
    "import spacy\n",
    "from tqdm import tqdm\n",
    "\n",
    "# training data\n",
    "TRAIN_DATA = [\n",
    "              (\"Is there a Servicenow incident for Mail\", {\"entities\": [(11, 22, \"TOOLS\"), (22,30, \"TARGET\"),(35,39, \"PROPERTY\")]}),\n",
    "              (\"Get all the incident that impacted Mail between yesterday and today\", {\"entities\": [(12,20, \"TARGET\"),(35,39, \"PROPERTY\")]}),\n",
    "              (\"Please ping the yamas graph for alert\", {\"entities\": [(16, 21, \"TOOLS\"),(22,27, \"TOOLS\"),(32,37, \"ALERT\")]})\n",
    "            ]\n",
    "\n",
    "model = None\n",
    "output_dir=Path(\"/Users/namithav/demo_chatbot/ner\")\n",
    "n_iter=100\n",
    "\n",
    "#load the model\n",
    "\n",
    "if model is not None:\n",
    "    nlp = spacy.load(model)\n",
    "    print(\"Loaded model '%s'\" % model)\n",
    "else:\n",
    "    nlp = spacy.blank('en')\n",
    "    print(\"Created blank 'en' model\")\n",
    "\n",
    "#set up the pipeline\n",
    "\n",
    "if 'ner' not in nlp.pipe_names:\n",
    "    ner = nlp.create_pipe('ner')\n",
    "    nlp.add_pipe(ner, last=True)\n",
    "else:\n",
    "    ner = nlp.get_pipe('ner')\n",
    "\n",
    "for _, annotations in TRAIN_DATA:\n",
    "    for ent in annotations.get('entities'):\n",
    "        ner.add_label(ent[2])\n",
    "\n",
    "other_pipes = [pipe for pipe in nlp.pipe_names if pipe != 'ner']\n",
    "with nlp.disable_pipes(*other_pipes):  # only train NER\n",
    "    optimizer = nlp.begin_training()\n",
    "    for itn in range(n_iter):\n",
    "        random.shuffle(TRAIN_DATA)\n",
    "        losses = {}\n",
    "        for text, annotations in tqdm(TRAIN_DATA):\n",
    "            nlp.update(\n",
    "                [text],\n",
    "                [annotations],\n",
    "                drop=0.5,\n",
    "                sgd=optimizer,\n",
    "                losses=losses)\n",
    "        print(losses)\n",
    "for text, _ in TRAIN_DATA:\n",
    "    doc = nlp(text)\n",
    "    print('Entities', [(ent.text, ent.label_) for ent in doc.ents])"
   ]
  },
  {
   "cell_type": "code",
   "execution_count": 29,
   "metadata": {},
   "outputs": [
    {
     "name": "stdout",
     "output_type": "stream",
     "text": [
      "Please ping the yamas graph for alert\n",
      "Entities [('yamas', 'TOOLS'), ('graph', 'TOOLS'), ('alert', 'ALERT')]\n",
      "Get all the incident that impacted Mail between yesterday and today\n",
      "Entities [('incident', 'TARGET'), ('Mail', 'PROPERTY')]\n",
      "Is there a Servicenow incident for Mail\n",
      "Entities [('incident', 'TARGET'), ('Mail', 'PROPERTY')]\n"
     ]
    }
   ],
   "source": [
    "for text, _ in TRAIN_DATA:\n",
    "    doc = nlp(text)\n",
    "    print(text)\n",
    "    print('Entities', [(ent.text, ent.label_) for ent in doc.ents])"
   ]
  },
  {
   "cell_type": "code",
   "execution_count": 13,
   "metadata": {},
   "outputs": [
    {
     "name": "stdout",
     "output_type": "stream",
     "text": [
      "less than 24 hours TIME\n"
     ]
    }
   ],
   "source": [
    "import spacy\n",
    "nlp = spacy.load('en')\n",
    "#doc = nlp(u'List out the incidents for Mail between yesterday and today')\n",
    "#doc = nlp(u'List the incidents for Mail on 24th December')\n",
    "doc = nlp(u'List incidents in less than 24 hours')\n",
    "for token in doc.ents:\n",
    "    print(token.text, token.label_)"
   ]
  },
  {
   "cell_type": "code",
   "execution_count": 23,
   "metadata": {},
   "outputs": [
    {
     "name": "stdout",
     "output_type": "stream",
     "text": [
      "Servicenow 11 21\n",
      "incident 22 30\n",
      "Mail 35 39\n"
     ]
    }
   ],
   "source": [
    "import re\n",
    "doc = nlp(\"Is there a Servicenow incident for Mail\")\n",
    "list_of_strings = [\"Servicenow\", \"incident\", \"Mail\"]\n",
    "for s in list_of_strings:\n",
    "    res = re.search(s,doc.text)\n",
    "    if res:\n",
    "        print(s , res.start(), res.end())\n"
   ]
  },
  {
   "cell_type": "code",
   "execution_count": null,
   "metadata": {},
   "outputs": [],
   "source": []
  }
 ],
 "metadata": {
  "kernelspec": {
   "display_name": "Python 3",
   "language": "python",
   "name": "python3"
  },
  "language_info": {
   "codemirror_mode": {
    "name": "ipython",
    "version": 3
   },
   "file_extension": ".py",
   "mimetype": "text/x-python",
   "name": "python",
   "nbconvert_exporter": "python",
   "pygments_lexer": "ipython3",
   "version": "3.8.2"
  }
 },
 "nbformat": 4,
 "nbformat_minor": 4
}
